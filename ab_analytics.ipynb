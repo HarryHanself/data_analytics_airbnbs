{
 "cells": [
  {
   "cell_type": "markdown",
   "metadata": {},
   "source": [
    "## New York Airbnb Rental Analysis"
   ]
  },
  {
   "cell_type": "markdown",
   "metadata": {},
   "source": [
    "# Introduction"
   ]
  },
  {
   "cell_type": "markdown",
   "metadata": {},
   "source": [
    "In recent years, the B&B industry has become an increasingly large part of the tourism industry. The rise of platforms such as Airbnb has become a strong competitor to the traditional hotel industry. In Taiwan, for example, as people's travel habits and values have changed in recent years, B&Bs have begun to grow explosively, and in 2018 alone, the vast majority of the 3,362 new hotels were B&Bs (Chien-Chung Yu, et al., 2020).\n",
    "\n",
    "The development of B&Bs profoundly affects the tourism industry and even social patterns in cities. In urban and rural areas, tourists can have a more seamless interaction with local communities and a more local experience by staying at a B&B. At the same time, local communities interact with foreign tourists and undoubtedly increase equality between tourists and local residents, promoting bonds between communities (Emeka Ndaguba, et al., 2023).\n",
    "\n",
    "The rental rates of B&Bs are influenced by various factors, including the city's location and the type of accommodation. For instance, there can be a twofold difference in the average daily rent of B&Bs between Tallinn and Bucharest, highlighting the significant impact of geographic location on pricing in different cities in Central and Eastern Europe (Łukasz Mach, 2020). Therefore, landlords need to consider these relevant elements to formulate a scientific and effective pricing strategy, emphasizing the importance of thoughtful consideration in this aspect.\n",
    "\n",
    "Therefore, this REPORT attempts to summarise by analysing more than 20,000 airbnb B&Bs in New York City:<br>\n",
    "-Visualise the distribution density of B&Bs in different areas in New York;<br>\n",
    "-The impact of different elements (e.g., location, frequency of customer reviews, room type, etc.) on B&B pricing;<br>\n",
    "-The training of a suitable model for predicting B&B prices, which can help landlords develop effective pricing strategies."
   ]
  },
  {
   "cell_type": "markdown",
   "metadata": {},
   "source": [
    "# Data"
   ]
  },
  {
   "cell_type": "markdown",
   "metadata": {},
   "source": [
    "This dataset provides an unique and comprehensive view of the Airbnb industry in New York City. This data describes some crucial parameter related to over 20,000 Airbnbs in New York City in 2019, including \"host name, neighborhood group, location (latitude/longitude coordinates), room type, price per night, minimum nights required to book a stay at this listing, total number of reviews and ratings received by guests over time (including reviews per month and last review date), calculated host listing count (indicates how many listings are offered by each host) along with 365 days worth of availability score\". This data will offer valuable insights for professionals in the relevant market to analyze trends in the Airbnb market (Kaggle, 2023).\n",
    "\n",
    "The data can be obtained on [Kaggle](https://www.kaggle.com/datasets/dgomonov/new-york-city-airbnb-open-data/data), and the original source can be found on this [website](https://www.kaggle.com/datasets/dgomonov/new-york-city-airbnb-open-data/data). This public dataset is part of Airbnb.\n",
    "\n",
    "With all these parameters we can visualise the distribution of Airbnbs in New York, understand the correlation between the price of B&B rentals and other attributes of those Airbnbs, and then derive a model of B&B prices through classification. This facilitates a clearer study of the supply relationship of B&Bs."
   ]
  },
  {
   "cell_type": "markdown",
   "metadata": {},
   "source": [
    "# Statistics and Visualisation"
   ]
  },
  {
   "cell_type": "markdown",
   "metadata": {},
   "source": [
    "Import the basic packages:"
   ]
  },
  {
   "cell_type": "code",
   "execution_count": 33,
   "metadata": {},
   "outputs": [],
   "source": [
    "import pandas as pd\n",
    "import matplotlib.pyplot as plt\n",
    "import seaborn as sns\n",
    "import numpy as np\n",
    "from sklearn.model_selection import train_test_split\n",
    "from sklearn.preprocessing import LabelEncoder\n",
    "import geopandas as gpd"
   ]
  },
  {
   "cell_type": "markdown",
   "metadata": {},
   "source": [
    "Load in and view the New York Airbnb data:"
   ]
  },
  {
   "cell_type": "code",
   "execution_count": 34,
   "metadata": {},
   "outputs": [
    {
     "data": {
      "text/html": [
       "<div>\n",
       "<style scoped>\n",
       "    .dataframe tbody tr th:only-of-type {\n",
       "        vertical-align: middle;\n",
       "    }\n",
       "\n",
       "    .dataframe tbody tr th {\n",
       "        vertical-align: top;\n",
       "    }\n",
       "\n",
       "    .dataframe thead th {\n",
       "        text-align: right;\n",
       "    }\n",
       "</style>\n",
       "<table border=\"1\" class=\"dataframe\">\n",
       "  <thead>\n",
       "    <tr style=\"text-align: right;\">\n",
       "      <th></th>\n",
       "      <th>id</th>\n",
       "      <th>name</th>\n",
       "      <th>host_id</th>\n",
       "      <th>host_name</th>\n",
       "      <th>neighbourhood_group</th>\n",
       "      <th>neighbourhood</th>\n",
       "      <th>latitude</th>\n",
       "      <th>longitude</th>\n",
       "      <th>room_type</th>\n",
       "      <th>price</th>\n",
       "      <th>minimum_nights</th>\n",
       "      <th>number_of_reviews</th>\n",
       "      <th>last_review</th>\n",
       "      <th>reviews_per_month</th>\n",
       "      <th>calculated_host_listings_count</th>\n",
       "      <th>availability_365</th>\n",
       "    </tr>\n",
       "  </thead>\n",
       "  <tbody>\n",
       "    <tr>\n",
       "      <th>0</th>\n",
       "      <td>2539</td>\n",
       "      <td>Clean &amp; quiet apt home by the park</td>\n",
       "      <td>2787</td>\n",
       "      <td>John</td>\n",
       "      <td>Brooklyn</td>\n",
       "      <td>Kensington</td>\n",
       "      <td>40.64749</td>\n",
       "      <td>-73.97237</td>\n",
       "      <td>Private room</td>\n",
       "      <td>149</td>\n",
       "      <td>1</td>\n",
       "      <td>9</td>\n",
       "      <td>2018-10-19</td>\n",
       "      <td>0.21</td>\n",
       "      <td>6</td>\n",
       "      <td>365</td>\n",
       "    </tr>\n",
       "    <tr>\n",
       "      <th>1</th>\n",
       "      <td>2595</td>\n",
       "      <td>Skylit Midtown Castle</td>\n",
       "      <td>2845</td>\n",
       "      <td>Jennifer</td>\n",
       "      <td>Manhattan</td>\n",
       "      <td>Midtown</td>\n",
       "      <td>40.75362</td>\n",
       "      <td>-73.98377</td>\n",
       "      <td>Entire home/apt</td>\n",
       "      <td>225</td>\n",
       "      <td>1</td>\n",
       "      <td>45</td>\n",
       "      <td>2019-05-21</td>\n",
       "      <td>0.38</td>\n",
       "      <td>2</td>\n",
       "      <td>355</td>\n",
       "    </tr>\n",
       "    <tr>\n",
       "      <th>2</th>\n",
       "      <td>3647</td>\n",
       "      <td>THE VILLAGE OF HARLEM....NEW YORK !</td>\n",
       "      <td>4632</td>\n",
       "      <td>Elisabeth</td>\n",
       "      <td>Manhattan</td>\n",
       "      <td>Harlem</td>\n",
       "      <td>40.80902</td>\n",
       "      <td>-73.94190</td>\n",
       "      <td>Private room</td>\n",
       "      <td>150</td>\n",
       "      <td>3</td>\n",
       "      <td>0</td>\n",
       "      <td>NaN</td>\n",
       "      <td>NaN</td>\n",
       "      <td>1</td>\n",
       "      <td>365</td>\n",
       "    </tr>\n",
       "    <tr>\n",
       "      <th>3</th>\n",
       "      <td>3831</td>\n",
       "      <td>Cozy Entire Floor of Brownstone</td>\n",
       "      <td>4869</td>\n",
       "      <td>LisaRoxanne</td>\n",
       "      <td>Brooklyn</td>\n",
       "      <td>Clinton Hill</td>\n",
       "      <td>40.68514</td>\n",
       "      <td>-73.95976</td>\n",
       "      <td>Entire home/apt</td>\n",
       "      <td>89</td>\n",
       "      <td>1</td>\n",
       "      <td>270</td>\n",
       "      <td>2019-07-05</td>\n",
       "      <td>4.64</td>\n",
       "      <td>1</td>\n",
       "      <td>194</td>\n",
       "    </tr>\n",
       "    <tr>\n",
       "      <th>4</th>\n",
       "      <td>5022</td>\n",
       "      <td>Entire Apt: Spacious Studio/Loft by central park</td>\n",
       "      <td>7192</td>\n",
       "      <td>Laura</td>\n",
       "      <td>Manhattan</td>\n",
       "      <td>East Harlem</td>\n",
       "      <td>40.79851</td>\n",
       "      <td>-73.94399</td>\n",
       "      <td>Entire home/apt</td>\n",
       "      <td>80</td>\n",
       "      <td>10</td>\n",
       "      <td>9</td>\n",
       "      <td>2018-11-19</td>\n",
       "      <td>0.10</td>\n",
       "      <td>1</td>\n",
       "      <td>0</td>\n",
       "    </tr>\n",
       "  </tbody>\n",
       "</table>\n",
       "</div>"
      ],
      "text/plain": [
       "     id                                              name  host_id  \\\n",
       "0  2539                Clean & quiet apt home by the park     2787   \n",
       "1  2595                             Skylit Midtown Castle     2845   \n",
       "2  3647               THE VILLAGE OF HARLEM....NEW YORK !     4632   \n",
       "3  3831                   Cozy Entire Floor of Brownstone     4869   \n",
       "4  5022  Entire Apt: Spacious Studio/Loft by central park     7192   \n",
       "\n",
       "     host_name neighbourhood_group neighbourhood  latitude  longitude  \\\n",
       "0         John            Brooklyn    Kensington  40.64749  -73.97237   \n",
       "1     Jennifer           Manhattan       Midtown  40.75362  -73.98377   \n",
       "2    Elisabeth           Manhattan        Harlem  40.80902  -73.94190   \n",
       "3  LisaRoxanne            Brooklyn  Clinton Hill  40.68514  -73.95976   \n",
       "4        Laura           Manhattan   East Harlem  40.79851  -73.94399   \n",
       "\n",
       "         room_type  price  minimum_nights  number_of_reviews last_review  \\\n",
       "0     Private room    149               1                  9  2018-10-19   \n",
       "1  Entire home/apt    225               1                 45  2019-05-21   \n",
       "2     Private room    150               3                  0         NaN   \n",
       "3  Entire home/apt     89               1                270  2019-07-05   \n",
       "4  Entire home/apt     80              10                  9  2018-11-19   \n",
       "\n",
       "   reviews_per_month  calculated_host_listings_count  availability_365  \n",
       "0               0.21                               6               365  \n",
       "1               0.38                               2               355  \n",
       "2                NaN                               1               365  \n",
       "3               4.64                               1               194  \n",
       "4               0.10                               1                 0  "
      ]
     },
     "execution_count": 34,
     "metadata": {},
     "output_type": "execute_result"
    }
   ],
   "source": [
    "bnbs = pd.read_csv('AB_NYC_2019.csv') #Load in the data\n",
    "bnbs.head() #View"
   ]
  },
  {
   "cell_type": "code",
   "execution_count": 35,
   "metadata": {},
   "outputs": [
    {
     "data": {
      "text/html": [
       "<div>\n",
       "<style scoped>\n",
       "    .dataframe tbody tr th:only-of-type {\n",
       "        vertical-align: middle;\n",
       "    }\n",
       "\n",
       "    .dataframe tbody tr th {\n",
       "        vertical-align: top;\n",
       "    }\n",
       "\n",
       "    .dataframe thead th {\n",
       "        text-align: right;\n",
       "    }\n",
       "</style>\n",
       "<table border=\"1\" class=\"dataframe\">\n",
       "  <thead>\n",
       "    <tr style=\"text-align: right;\">\n",
       "      <th></th>\n",
       "      <th>id</th>\n",
       "      <th>host_id</th>\n",
       "      <th>latitude</th>\n",
       "      <th>longitude</th>\n",
       "      <th>price</th>\n",
       "      <th>minimum_nights</th>\n",
       "      <th>number_of_reviews</th>\n",
       "      <th>reviews_per_month</th>\n",
       "      <th>calculated_host_listings_count</th>\n",
       "      <th>availability_365</th>\n",
       "    </tr>\n",
       "  </thead>\n",
       "  <tbody>\n",
       "    <tr>\n",
       "      <th>count</th>\n",
       "      <td>4.889500e+04</td>\n",
       "      <td>4.889500e+04</td>\n",
       "      <td>48895.000000</td>\n",
       "      <td>48895.000000</td>\n",
       "      <td>48895.000000</td>\n",
       "      <td>48895.000000</td>\n",
       "      <td>48895.000000</td>\n",
       "      <td>38843.000000</td>\n",
       "      <td>48895.000000</td>\n",
       "      <td>48895.000000</td>\n",
       "    </tr>\n",
       "    <tr>\n",
       "      <th>mean</th>\n",
       "      <td>1.901714e+07</td>\n",
       "      <td>6.762001e+07</td>\n",
       "      <td>40.728949</td>\n",
       "      <td>-73.952170</td>\n",
       "      <td>152.720687</td>\n",
       "      <td>7.029962</td>\n",
       "      <td>23.274466</td>\n",
       "      <td>1.373221</td>\n",
       "      <td>7.143982</td>\n",
       "      <td>112.781327</td>\n",
       "    </tr>\n",
       "    <tr>\n",
       "      <th>std</th>\n",
       "      <td>1.098311e+07</td>\n",
       "      <td>7.861097e+07</td>\n",
       "      <td>0.054530</td>\n",
       "      <td>0.046157</td>\n",
       "      <td>240.154170</td>\n",
       "      <td>20.510550</td>\n",
       "      <td>44.550582</td>\n",
       "      <td>1.680442</td>\n",
       "      <td>32.952519</td>\n",
       "      <td>131.622289</td>\n",
       "    </tr>\n",
       "    <tr>\n",
       "      <th>min</th>\n",
       "      <td>2.539000e+03</td>\n",
       "      <td>2.438000e+03</td>\n",
       "      <td>40.499790</td>\n",
       "      <td>-74.244420</td>\n",
       "      <td>0.000000</td>\n",
       "      <td>1.000000</td>\n",
       "      <td>0.000000</td>\n",
       "      <td>0.010000</td>\n",
       "      <td>1.000000</td>\n",
       "      <td>0.000000</td>\n",
       "    </tr>\n",
       "    <tr>\n",
       "      <th>25%</th>\n",
       "      <td>9.471945e+06</td>\n",
       "      <td>7.822033e+06</td>\n",
       "      <td>40.690100</td>\n",
       "      <td>-73.983070</td>\n",
       "      <td>69.000000</td>\n",
       "      <td>1.000000</td>\n",
       "      <td>1.000000</td>\n",
       "      <td>0.190000</td>\n",
       "      <td>1.000000</td>\n",
       "      <td>0.000000</td>\n",
       "    </tr>\n",
       "    <tr>\n",
       "      <th>50%</th>\n",
       "      <td>1.967728e+07</td>\n",
       "      <td>3.079382e+07</td>\n",
       "      <td>40.723070</td>\n",
       "      <td>-73.955680</td>\n",
       "      <td>106.000000</td>\n",
       "      <td>3.000000</td>\n",
       "      <td>5.000000</td>\n",
       "      <td>0.720000</td>\n",
       "      <td>1.000000</td>\n",
       "      <td>45.000000</td>\n",
       "    </tr>\n",
       "    <tr>\n",
       "      <th>75%</th>\n",
       "      <td>2.915218e+07</td>\n",
       "      <td>1.074344e+08</td>\n",
       "      <td>40.763115</td>\n",
       "      <td>-73.936275</td>\n",
       "      <td>175.000000</td>\n",
       "      <td>5.000000</td>\n",
       "      <td>24.000000</td>\n",
       "      <td>2.020000</td>\n",
       "      <td>2.000000</td>\n",
       "      <td>227.000000</td>\n",
       "    </tr>\n",
       "    <tr>\n",
       "      <th>max</th>\n",
       "      <td>3.648724e+07</td>\n",
       "      <td>2.743213e+08</td>\n",
       "      <td>40.913060</td>\n",
       "      <td>-73.712990</td>\n",
       "      <td>10000.000000</td>\n",
       "      <td>1250.000000</td>\n",
       "      <td>629.000000</td>\n",
       "      <td>58.500000</td>\n",
       "      <td>327.000000</td>\n",
       "      <td>365.000000</td>\n",
       "    </tr>\n",
       "  </tbody>\n",
       "</table>\n",
       "</div>"
      ],
      "text/plain": [
       "                 id       host_id      latitude     longitude         price  \\\n",
       "count  4.889500e+04  4.889500e+04  48895.000000  48895.000000  48895.000000   \n",
       "mean   1.901714e+07  6.762001e+07     40.728949    -73.952170    152.720687   \n",
       "std    1.098311e+07  7.861097e+07      0.054530      0.046157    240.154170   \n",
       "min    2.539000e+03  2.438000e+03     40.499790    -74.244420      0.000000   \n",
       "25%    9.471945e+06  7.822033e+06     40.690100    -73.983070     69.000000   \n",
       "50%    1.967728e+07  3.079382e+07     40.723070    -73.955680    106.000000   \n",
       "75%    2.915218e+07  1.074344e+08     40.763115    -73.936275    175.000000   \n",
       "max    3.648724e+07  2.743213e+08     40.913060    -73.712990  10000.000000   \n",
       "\n",
       "       minimum_nights  number_of_reviews  reviews_per_month  \\\n",
       "count    48895.000000       48895.000000       38843.000000   \n",
       "mean         7.029962          23.274466           1.373221   \n",
       "std         20.510550          44.550582           1.680442   \n",
       "min          1.000000           0.000000           0.010000   \n",
       "25%          1.000000           1.000000           0.190000   \n",
       "50%          3.000000           5.000000           0.720000   \n",
       "75%          5.000000          24.000000           2.020000   \n",
       "max       1250.000000         629.000000          58.500000   \n",
       "\n",
       "       calculated_host_listings_count  availability_365  \n",
       "count                    48895.000000      48895.000000  \n",
       "mean                         7.143982        112.781327  \n",
       "std                         32.952519        131.622289  \n",
       "min                          1.000000          0.000000  \n",
       "25%                          1.000000          0.000000  \n",
       "50%                          1.000000         45.000000  \n",
       "75%                          2.000000        227.000000  \n",
       "max                        327.000000        365.000000  "
      ]
     },
     "execution_count": 35,
     "metadata": {},
     "output_type": "execute_result"
    }
   ],
   "source": [
    "bnbs.describe() #Describe the data"
   ]
  },
  {
   "cell_type": "code",
   "execution_count": 36,
   "metadata": {},
   "outputs": [
    {
     "data": {
      "text/plain": [
       "id                                  int64\n",
       "name                               object\n",
       "host_id                             int64\n",
       "host_name                          object\n",
       "neighbourhood_group                object\n",
       "neighbourhood                      object\n",
       "latitude                          float64\n",
       "longitude                         float64\n",
       "room_type                          object\n",
       "price                               int64\n",
       "minimum_nights                      int64\n",
       "number_of_reviews                   int64\n",
       "last_review                        object\n",
       "reviews_per_month                 float64\n",
       "calculated_host_listings_count      int64\n",
       "availability_365                    int64\n",
       "dtype: object"
      ]
     },
     "execution_count": 36,
     "metadata": {},
     "output_type": "execute_result"
    }
   ],
   "source": [
    "bnbs.dtypes #View the data type of each column"
   ]
  },
  {
   "cell_type": "markdown",
   "metadata": {},
   "source": [
    "The columns of the data represent the following:<br>\n",
    "-id: The id of the Airbnb listing. (Integer)<br>\n",
    "-name: The name of the Airbnb listing. (String)<br>\n",
    "-host_id: The id of the host of the Airbnb listing. (Integer)<br>\n",
    "-host_name: The name of the host of the Airbnb listing. (String)<br>\n",
    "-neighbourhood_group: The neighbourhood group the Airbnb listing is located in. (String)<br>\n",
    "-latitude: The latitude coordinate of the Airbnb listing. (Float)<br>\n",
    "-longitude: The longitude coordinate of the Airbnb listing. (Float)<br>\n",
    "-room_type: The type of room offered by the Airbnb listing. (String)<br>\n",
    "-price: The price per night of the Airbnb listing. (Integer)<br>\n",
    "-minimum_nights: The minimum number of nights required for booking the Airbnb listing. (Integer)<br>\n",
    "-number_of_reviews: The total number of reviews the Airbnb listing has received. (Integer)<br>\n",
    "-last_review: The date of the last review the Airbnb listing has received. (Date)<br>\n",
    "-reviews_per_month: The average number of reviews the Airbnb listing receives per month. (Float)<br>\n",
    "-calculated_host_listings_count: The total number of listings the host has. (Integer)<br>\n",
    "-availability_365: The number of days the Airbnb listing is available for booking in a year. (Integer)<br>"
   ]
  },
  {
   "cell_type": "markdown",
   "metadata": {},
   "source": [
    "Count the values of different neighbourhood group."
   ]
  },
  {
   "cell_type": "code",
   "execution_count": 37,
   "metadata": {},
   "outputs": [
    {
     "data": {
      "text/plain": [
       "Manhattan        21661\n",
       "Brooklyn         20104\n",
       "Queens            5666\n",
       "Bronx             1091\n",
       "Staten Island      373\n",
       "Name: neighbourhood_group, dtype: int64"
      ]
     },
     "execution_count": 37,
     "metadata": {},
     "output_type": "execute_result"
    }
   ],
   "source": [
    "bnbs['neighbourhood_group'].value_counts() "
   ]
  },
  {
   "cell_type": "markdown",
   "metadata": {},
   "source": [
    "Most Airbnbs are located in Manhattan & Brooklyn, with Manhattan Airbnbs having the highest number at 21,661."
   ]
  },
  {
   "cell_type": "markdown",
   "metadata": {},
   "source": [
    "Creat a boxplot of prices of the listings."
   ]
  },
  {
   "cell_type": "code",
   "execution_count": 38,
   "metadata": {},
   "outputs": [
    {
     "data": {
      "image/png": "[encoded data removed]",
      "text/plain": [
       "<Figure size 432x288 with 1 Axes>"
      ]
     },
     "metadata": {
      "needs_background": "light"
     },
     "output_type": "display_data"
    }
   ],
   "source": [
    "#boxplot\n",
    "plt.boxplot(bnbs['price'])\n",
    "plt.ylabel('price')\n",
    "plt.show()"
   ]
  },
  {
   "cell_type": "markdown",
   "metadata": {},
   "source": [
    "Obviously, such a distribution of prices is not conducive to data analysis, so we need to eliminate the exceptional values with prices greater than 300 to make our conclusions more general."
   ]
  },
  {
   "cell_type": "code",
   "execution_count": 39,
   "metadata": {},
   "outputs": [
    {
     "data": {
      "image/png": "[encoded data removed]",
      "text/plain": [
       "<Figure size 432x288 with 1 Axes>"
      ]
     },
     "metadata": {
      "needs_background": "light"
     },
     "output_type": "display_data"
    }
   ],
   "source": [
    "bnbs_price_less_300 = bnbs[bnbs['price']<=300] #eliminate the outliers\n",
    "plt.boxplot(bnbs_price_less_300['price'])\n",
    "plt.ylabel('price')\n",
    "plt.show()"
   ]
  },
  {
   "cell_type": "markdown",
   "metadata": {},
   "source": [
    "Now, we are making a histogram of the price of the B&Bs. "
   ]
  },
  {
   "cell_type": "code",
   "execution_count": 40,
   "metadata": {},
   "outputs": [
    {
     "data": {
      "image/png": "[encoded data removed]",
      "text/plain": [
       "<Figure size 432x288 with 1 Axes>"
      ]
     },
     "metadata": {
      "needs_background": "light"
     },
     "output_type": "display_data"
    }
   ],
   "source": [
    "#histogram\n",
    "plt.hist(bnbs_price_less_300['price'])\n",
    "plt.xlabel('price')\n",
    "plt.show()"
   ]
  },
  {
   "cell_type": "markdown",
   "metadata": {},
   "source": [
    "Apparently, the nightly rents for New York airbnbs that spread out in the 50-100 range are the most."
   ]
  },
  {
   "cell_type": "markdown",
   "metadata": {},
   "source": [
    "Next, the box plot is able to give different rent distributions for different areas and room types in New York."
   ]
  },
  {
   "cell_type": "code",
   "execution_count": 41,
   "metadata": {},
   "outputs": [
    {
     "data": {
      "image/png": "[encoded data removed]",
      "text/plain": [
       "<Figure size 432x288 with 1 Axes>"
      ]
     },
     "metadata": {
      "needs_background": "light"
     },
     "output_type": "display_data"
    }
   ],
   "source": [
    "#boxplot of price distribution in the 5 boroughs\n",
    "fig = sns.boxplot(data = bnbs_price_less_300, y = \"neighbourhood_group\", x = \"price\") \n",
    "plt.show()"
   ]
  },
  {
   "cell_type": "code",
   "execution_count": 42,
   "metadata": {},
   "outputs": [
    {
     "data": {
      "image/png": "[encoded data removed]",
      "text/plain": [
       "<Figure size 432x288 with 1 Axes>"
      ]
     },
     "metadata": {
      "needs_background": "light"
     },
     "output_type": "display_data"
    }
   ],
   "source": [
    "#boxplot of price distribution of different room type\n",
    "fig = sns.boxplot(data = bnbs_price_less_300, y = \"room_type\", x = \"price\") \n",
    "plt.show()"
   ]
  },
  {
   "cell_type": "markdown",
   "metadata": {},
   "source": [
    "The box plot clearly shows that Manhattan has the highest rents compared to the other four boroughs. 'Entire home/apt' has the highest rent compared to other room types."
   ]
  },
  {
   "cell_type": "markdown",
   "metadata": {},
   "source": [
    "Next, we will check the distribution of the Airbnbs in New York with map. First, load in the .shp file from <https://opendata.cityofnewyork.us>."
   ]
  },
  {
   "cell_type": "code",
   "execution_count": 43,
   "metadata": {},
   "outputs": [],
   "source": [
    "New_York = gpd.read_file('geo_export_de8162dc-c3f8-4edb-806e-b3442a6cd410.shp')"
   ]
  },
  {
   "cell_type": "code",
   "execution_count": 44,
   "metadata": {},
   "outputs": [
    {
     "data": {
      "text/html": [
       "<div>\n",
       "<style scoped>\n",
       "    .dataframe tbody tr th:only-of-type {\n",
       "        vertical-align: middle;\n",
       "    }\n",
       "\n",
       "    .dataframe tbody tr th {\n",
       "        vertical-align: top;\n",
       "    }\n",
       "\n",
       "    .dataframe thead th {\n",
       "        text-align: right;\n",
       "    }\n",
       "</style>\n",
       "<table border=\"1\" class=\"dataframe\">\n",
       "  <thead>\n",
       "    <tr style=\"text-align: right;\">\n",
       "      <th></th>\n",
       "      <th>boro_code</th>\n",
       "      <th>boro_name</th>\n",
       "      <th>shape_area</th>\n",
       "      <th>shape_leng</th>\n",
       "      <th>geometry</th>\n",
       "    </tr>\n",
       "  </thead>\n",
       "  <tbody>\n",
       "    <tr>\n",
       "      <th>0</th>\n",
       "      <td>5.0</td>\n",
       "      <td>Staten Island</td>\n",
       "      <td>1.623621e+09</td>\n",
       "      <td>325917.353950</td>\n",
       "      <td>MULTIPOLYGON (((-74.05051 40.56642, -74.05047 ...</td>\n",
       "    </tr>\n",
       "    <tr>\n",
       "      <th>1</th>\n",
       "      <td>2.0</td>\n",
       "      <td>Bronx</td>\n",
       "      <td>1.187175e+09</td>\n",
       "      <td>463179.772813</td>\n",
       "      <td>MULTIPOLYGON (((-73.89681 40.79581, -73.89694 ...</td>\n",
       "    </tr>\n",
       "    <tr>\n",
       "      <th>2</th>\n",
       "      <td>4.0</td>\n",
       "      <td>Queens</td>\n",
       "      <td>3.041419e+09</td>\n",
       "      <td>888199.730955</td>\n",
       "      <td>MULTIPOLYGON (((-73.82645 40.59053, -73.82642 ...</td>\n",
       "    </tr>\n",
       "    <tr>\n",
       "      <th>3</th>\n",
       "      <td>1.0</td>\n",
       "      <td>Manhattan</td>\n",
       "      <td>6.365205e+08</td>\n",
       "      <td>357713.308660</td>\n",
       "      <td>MULTIPOLYGON (((-74.01093 40.68449, -74.01193 ...</td>\n",
       "    </tr>\n",
       "    <tr>\n",
       "      <th>4</th>\n",
       "      <td>3.0</td>\n",
       "      <td>Brooklyn</td>\n",
       "      <td>1.934138e+09</td>\n",
       "      <td>728148.532410</td>\n",
       "      <td>MULTIPOLYGON (((-73.86327 40.58388, -73.86381 ...</td>\n",
       "    </tr>\n",
       "  </tbody>\n",
       "</table>\n",
       "</div>"
      ],
      "text/plain": [
       "   boro_code      boro_name    shape_area     shape_leng  \\\n",
       "0        5.0  Staten Island  1.623621e+09  325917.353950   \n",
       "1        2.0          Bronx  1.187175e+09  463179.772813   \n",
       "2        4.0         Queens  3.041419e+09  888199.730955   \n",
       "3        1.0      Manhattan  6.365205e+08  357713.308660   \n",
       "4        3.0       Brooklyn  1.934138e+09  728148.532410   \n",
       "\n",
       "                                            geometry  \n",
       "0  MULTIPOLYGON (((-74.05051 40.56642, -74.05047 ...  \n",
       "1  MULTIPOLYGON (((-73.89681 40.79581, -73.89694 ...  \n",
       "2  MULTIPOLYGON (((-73.82645 40.59053, -73.82642 ...  \n",
       "3  MULTIPOLYGON (((-74.01093 40.68449, -74.01193 ...  \n",
       "4  MULTIPOLYGON (((-73.86327 40.58388, -73.86381 ...  "
      ]
     },
     "execution_count": 44,
     "metadata": {},
     "output_type": "execute_result"
    }
   ],
   "source": [
    "# View the spatial data.\n",
    "New_York"
   ]
  },
  {
   "cell_type": "markdown",
   "metadata": {},
   "source": [
    "The data contians the codes of five boroughs in New York city, their names, areas, lengths of the shapes. Points of the multipolygon in order are shown in the geometry column."
   ]
  },
  {
   "cell_type": "code",
   "execution_count": 45,
   "metadata": {},
   "outputs": [
    {
     "data": {
      "text/plain": [
       "<AxesSubplot:>"
      ]
     },
     "execution_count": 45,
     "metadata": {},
     "output_type": "execute_result"
    },
    {
     "data": {
      "image/png": "[encoded data removed]",
      "text/plain": [
       "<Figure size 432x288 with 1 Axes>"
      ]
     },
     "metadata": {
      "needs_background": "light"
     },
     "output_type": "display_data"
    }
   ],
   "source": [
    "# plot the New York data\n",
    "New_York.plot()\n"
   ]
  },
  {
   "cell_type": "code",
   "execution_count": 46,
   "metadata": {},
   "outputs": [
    {
     "data": {
      "text/plain": [
       "<AxesSubplot:>"
      ]
     },
     "execution_count": 46,
     "metadata": {},
     "output_type": "execute_result"
    },
    {
     "data": {
      "image/png": "[encoded data removed]",
      "text/plain": [
       "<Figure size 432x288 with 1 Axes>"
      ]
     },
     "metadata": {
      "needs_background": "light"
     },
     "output_type": "display_data"
    }
   ],
   "source": [
    "# create and plot the geodataframe of each bnb\n",
    "bnbsloc = gpd.GeoDataFrame(bnbs_price_less_300, geometry=gpd.points_from_xy(bnbs_price_less_300['longitude'], bnbs_price_less_300['latitude']))\n",
    "bnbsloc.plot()"
   ]
  },
  {
   "cell_type": "code",
   "execution_count": 47,
   "metadata": {},
   "outputs": [
    {
     "data": {
      "text/plain": [
       "Text(0.5, 0.98, 'Distribution of bnbs in New York')"
      ]
     },
     "execution_count": 47,
     "metadata": {},
     "output_type": "execute_result"
    },
    {
     "data": {
      "image/png": "[encoded data removed]",
      "text/plain": [
       "<Figure size 720x576 with 1 Axes>"
      ]
     },
     "metadata": {
      "needs_background": "light"
     },
     "output_type": "display_data"
    }
   ],
   "source": [
    "# plot the both spatial files together\n",
    "fig, ax = plt.subplots(1,1, figsize = (10,8), ) \n",
    "New_York.plot(ax = ax, linewidth = 0.2, column='boro_name', legend = True, cmap = 'viridis')\n",
    "bnbsloc.plot(ax = ax, color = '#FF0000', linewidth = 0.5, alpha = 0.1)\n",
    "ax.set_axis_off()\n",
    "fig.suptitle('Distribution of bnbs in New York')"
   ]
  },
  {
   "cell_type": "markdown",
   "metadata": {},
   "source": [
    "From the above picture we can visualise the distribution and density comparison of airbnb in New York, with Manhattan and the west side of Brooklyn having the highest density, while other areas are relatively low, with Staten Island having the lowest density of airbnbs."
   ]
  },
  {
   "cell_type": "code",
   "execution_count": 48,
   "metadata": {},
   "outputs": [
    {
     "data": {
      "text/plain": [
       "Text(0.5, 0.98, 'Distribution of bnbs by price in New York')"
      ]
     },
     "execution_count": 48,
     "metadata": {},
     "output_type": "execute_result"
    },
    {
     "data": {
      "image/png": "[encoded data removed]",
      "text/plain": [
       "<Figure size 720x576 with 2 Axes>"
      ]
     },
     "metadata": {
      "needs_background": "light"
     },
     "output_type": "display_data"
    }
   ],
   "source": [
    "# we can add the attribute of the price into this picture\n",
    "fig, ax = plt.subplots(1,1, figsize = (10,8), ) \n",
    "New_York.plot(ax = ax, linewidth = 0.2, column = 'boro_name', legend = True, cmap='Pastel1')\n",
    "bnbsloc.plot(ax = ax, column = 'price', linewidth = 0.5, alpha = 0.5, legend = True, label = 'price')\n",
    "ax.set_axis_off()\n",
    "fig.suptitle('Distribution of bnbs by price in New York')"
   ]
  },
  {
   "cell_type": "markdown",
   "metadata": {},
   "source": [
    "It is obvious that airbnb rentals around Manhattan are the most expensive."
   ]
  },
  {
   "cell_type": "markdown",
   "metadata": {},
   "source": [
    "# Data Wrangling"
   ]
  },
  {
   "cell_type": "markdown",
   "metadata": {},
   "source": [
    "In order to make the conclusions of the data analysis more general, besides eliminating the B&Bs with abnormal rents, it is also necessary to eliminate the B&Bs with too low a number of ratings and availability."
   ]
  },
  {
   "cell_type": "code",
   "execution_count": 49,
   "metadata": {},
   "outputs": [
    {
     "data": {
      "text/html": [
       "<div>\n",
       "<style scoped>\n",
       "    .dataframe tbody tr th:only-of-type {\n",
       "        vertical-align: middle;\n",
       "    }\n",
       "\n",
       "    .dataframe tbody tr th {\n",
       "        vertical-align: top;\n",
       "    }\n",
       "\n",
       "    .dataframe thead th {\n",
       "        text-align: right;\n",
       "    }\n",
       "</style>\n",
       "<table border=\"1\" class=\"dataframe\">\n",
       "  <thead>\n",
       "    <tr style=\"text-align: right;\">\n",
       "      <th></th>\n",
       "      <th>id</th>\n",
       "      <th>name</th>\n",
       "      <th>host_id</th>\n",
       "      <th>host_name</th>\n",
       "      <th>neighbourhood_group</th>\n",
       "      <th>neighbourhood</th>\n",
       "      <th>latitude</th>\n",
       "      <th>longitude</th>\n",
       "      <th>room_type</th>\n",
       "      <th>price</th>\n",
       "      <th>minimum_nights</th>\n",
       "      <th>number_of_reviews</th>\n",
       "      <th>last_review</th>\n",
       "      <th>reviews_per_month</th>\n",
       "      <th>calculated_host_listings_count</th>\n",
       "      <th>availability_365</th>\n",
       "    </tr>\n",
       "  </thead>\n",
       "  <tbody>\n",
       "    <tr>\n",
       "      <th>0</th>\n",
       "      <td>2539</td>\n",
       "      <td>Clean &amp; quiet apt home by the park</td>\n",
       "      <td>2787</td>\n",
       "      <td>John</td>\n",
       "      <td>Brooklyn</td>\n",
       "      <td>Kensington</td>\n",
       "      <td>40.64749</td>\n",
       "      <td>-73.97237</td>\n",
       "      <td>Private room</td>\n",
       "      <td>149</td>\n",
       "      <td>1</td>\n",
       "      <td>9</td>\n",
       "      <td>2018-10-19</td>\n",
       "      <td>0.21</td>\n",
       "      <td>6</td>\n",
       "      <td>365</td>\n",
       "    </tr>\n",
       "    <tr>\n",
       "      <th>1</th>\n",
       "      <td>2595</td>\n",
       "      <td>Skylit Midtown Castle</td>\n",
       "      <td>2845</td>\n",
       "      <td>Jennifer</td>\n",
       "      <td>Manhattan</td>\n",
       "      <td>Midtown</td>\n",
       "      <td>40.75362</td>\n",
       "      <td>-73.98377</td>\n",
       "      <td>Entire home/apt</td>\n",
       "      <td>225</td>\n",
       "      <td>1</td>\n",
       "      <td>45</td>\n",
       "      <td>2019-05-21</td>\n",
       "      <td>0.38</td>\n",
       "      <td>2</td>\n",
       "      <td>355</td>\n",
       "    </tr>\n",
       "    <tr>\n",
       "      <th>3</th>\n",
       "      <td>3831</td>\n",
       "      <td>Cozy Entire Floor of Brownstone</td>\n",
       "      <td>4869</td>\n",
       "      <td>LisaRoxanne</td>\n",
       "      <td>Brooklyn</td>\n",
       "      <td>Clinton Hill</td>\n",
       "      <td>40.68514</td>\n",
       "      <td>-73.95976</td>\n",
       "      <td>Entire home/apt</td>\n",
       "      <td>89</td>\n",
       "      <td>1</td>\n",
       "      <td>270</td>\n",
       "      <td>2019-07-05</td>\n",
       "      <td>4.64</td>\n",
       "      <td>1</td>\n",
       "      <td>194</td>\n",
       "    </tr>\n",
       "    <tr>\n",
       "      <th>5</th>\n",
       "      <td>5099</td>\n",
       "      <td>Large Cozy 1 BR Apartment In Midtown East</td>\n",
       "      <td>7322</td>\n",
       "      <td>Chris</td>\n",
       "      <td>Manhattan</td>\n",
       "      <td>Murray Hill</td>\n",
       "      <td>40.74767</td>\n",
       "      <td>-73.97500</td>\n",
       "      <td>Entire home/apt</td>\n",
       "      <td>200</td>\n",
       "      <td>3</td>\n",
       "      <td>74</td>\n",
       "      <td>2019-06-22</td>\n",
       "      <td>0.59</td>\n",
       "      <td>1</td>\n",
       "      <td>129</td>\n",
       "    </tr>\n",
       "    <tr>\n",
       "      <th>7</th>\n",
       "      <td>5178</td>\n",
       "      <td>Large Furnished Room Near B'way</td>\n",
       "      <td>8967</td>\n",
       "      <td>Shunichi</td>\n",
       "      <td>Manhattan</td>\n",
       "      <td>Hell's Kitchen</td>\n",
       "      <td>40.76489</td>\n",
       "      <td>-73.98493</td>\n",
       "      <td>Private room</td>\n",
       "      <td>79</td>\n",
       "      <td>2</td>\n",
       "      <td>430</td>\n",
       "      <td>2019-06-24</td>\n",
       "      <td>3.47</td>\n",
       "      <td>1</td>\n",
       "      <td>220</td>\n",
       "    </tr>\n",
       "  </tbody>\n",
       "</table>\n",
       "</div>"
      ],
      "text/plain": [
       "     id                                       name  host_id    host_name  \\\n",
       "0  2539         Clean & quiet apt home by the park     2787         John   \n",
       "1  2595                      Skylit Midtown Castle     2845     Jennifer   \n",
       "3  3831            Cozy Entire Floor of Brownstone     4869  LisaRoxanne   \n",
       "5  5099  Large Cozy 1 BR Apartment In Midtown East     7322        Chris   \n",
       "7  5178           Large Furnished Room Near B'way      8967     Shunichi   \n",
       "\n",
       "  neighbourhood_group   neighbourhood  latitude  longitude        room_type  \\\n",
       "0            Brooklyn      Kensington  40.64749  -73.97237     Private room   \n",
       "1           Manhattan         Midtown  40.75362  -73.98377  Entire home/apt   \n",
       "3            Brooklyn    Clinton Hill  40.68514  -73.95976  Entire home/apt   \n",
       "5           Manhattan     Murray Hill  40.74767  -73.97500  Entire home/apt   \n",
       "7           Manhattan  Hell's Kitchen  40.76489  -73.98493     Private room   \n",
       "\n",
       "   price  minimum_nights  number_of_reviews last_review  reviews_per_month  \\\n",
       "0    149               1                  9  2018-10-19               0.21   \n",
       "1    225               1                 45  2019-05-21               0.38   \n",
       "3     89               1                270  2019-07-05               4.64   \n",
       "5    200               3                 74  2019-06-22               0.59   \n",
       "7     79               2                430  2019-06-24               3.47   \n",
       "\n",
       "   calculated_host_listings_count  availability_365  \n",
       "0                               6               365  \n",
       "1                               2               355  \n",
       "3                               1               194  \n",
       "5                               1               129  \n",
       "7                               1               220  "
      ]
     },
     "execution_count": 49,
     "metadata": {},
     "output_type": "execute_result"
    }
   ],
   "source": [
    "bnbs_price_less_300 = bnbs_price_less_300[bnbs_price_less_300['number_of_reviews']>=1]\n",
    "bnbs_price_less_300 = bnbs_price_less_300[bnbs_price_less_300['availability_365']>=2]\n",
    "bnbs_price_less_300.head()"
   ]
  },
  {
   "cell_type": "markdown",
   "metadata": {},
   "source": [
    "Also, to enhance accuracy of analysis, certain variables require recoding."
   ]
  },
  {
   "cell_type": "code",
   "execution_count": 50,
   "metadata": {},
   "outputs": [
    {
     "data": {
      "text/html": [
       "<div>\n",
       "<style scoped>\n",
       "    .dataframe tbody tr th:only-of-type {\n",
       "        vertical-align: middle;\n",
       "    }\n",
       "\n",
       "    .dataframe tbody tr th {\n",
       "        vertical-align: top;\n",
       "    }\n",
       "\n",
       "    .dataframe thead th {\n",
       "        text-align: right;\n",
       "    }\n",
       "</style>\n",
       "<table border=\"1\" class=\"dataframe\">\n",
       "  <thead>\n",
       "    <tr style=\"text-align: right;\">\n",
       "      <th></th>\n",
       "      <th>id</th>\n",
       "      <th>name</th>\n",
       "      <th>host_id</th>\n",
       "      <th>host_name</th>\n",
       "      <th>neighbourhood_group</th>\n",
       "      <th>neighbourhood</th>\n",
       "      <th>latitude</th>\n",
       "      <th>longitude</th>\n",
       "      <th>room_type</th>\n",
       "      <th>price</th>\n",
       "      <th>...</th>\n",
       "      <th>calculated_host_listings_count</th>\n",
       "      <th>availability_365</th>\n",
       "      <th>Brooklyn_bin</th>\n",
       "      <th>Manhattan_bin</th>\n",
       "      <th>Queens_bin</th>\n",
       "      <th>Bronx_bin</th>\n",
       "      <th>Staten_Island _bin</th>\n",
       "      <th>Entire_home/apt_bin</th>\n",
       "      <th>Private_room_bin</th>\n",
       "      <th>Shared_room_bin</th>\n",
       "    </tr>\n",
       "  </thead>\n",
       "  <tbody>\n",
       "    <tr>\n",
       "      <th>0</th>\n",
       "      <td>2539</td>\n",
       "      <td>Clean &amp; quiet apt home by the park</td>\n",
       "      <td>2787</td>\n",
       "      <td>John</td>\n",
       "      <td>Brooklyn</td>\n",
       "      <td>Kensington</td>\n",
       "      <td>40.64749</td>\n",
       "      <td>-73.97237</td>\n",
       "      <td>Private room</td>\n",
       "      <td>149</td>\n",
       "      <td>...</td>\n",
       "      <td>6</td>\n",
       "      <td>365</td>\n",
       "      <td>1</td>\n",
       "      <td>0</td>\n",
       "      <td>0</td>\n",
       "      <td>0</td>\n",
       "      <td>0</td>\n",
       "      <td>0</td>\n",
       "      <td>1</td>\n",
       "      <td>0</td>\n",
       "    </tr>\n",
       "    <tr>\n",
       "      <th>1</th>\n",
       "      <td>2595</td>\n",
       "      <td>Skylit Midtown Castle</td>\n",
       "      <td>2845</td>\n",
       "      <td>Jennifer</td>\n",
       "      <td>Manhattan</td>\n",
       "      <td>Midtown</td>\n",
       "      <td>40.75362</td>\n",
       "      <td>-73.98377</td>\n",
       "      <td>Entire home/apt</td>\n",
       "      <td>225</td>\n",
       "      <td>...</td>\n",
       "      <td>2</td>\n",
       "      <td>355</td>\n",
       "      <td>0</td>\n",
       "      <td>1</td>\n",
       "      <td>0</td>\n",
       "      <td>0</td>\n",
       "      <td>0</td>\n",
       "      <td>1</td>\n",
       "      <td>0</td>\n",
       "      <td>0</td>\n",
       "    </tr>\n",
       "    <tr>\n",
       "      <th>3</th>\n",
       "      <td>3831</td>\n",
       "      <td>Cozy Entire Floor of Brownstone</td>\n",
       "      <td>4869</td>\n",
       "      <td>LisaRoxanne</td>\n",
       "      <td>Brooklyn</td>\n",
       "      <td>Clinton Hill</td>\n",
       "      <td>40.68514</td>\n",
       "      <td>-73.95976</td>\n",
       "      <td>Entire home/apt</td>\n",
       "      <td>89</td>\n",
       "      <td>...</td>\n",
       "      <td>1</td>\n",
       "      <td>194</td>\n",
       "      <td>1</td>\n",
       "      <td>0</td>\n",
       "      <td>0</td>\n",
       "      <td>0</td>\n",
       "      <td>0</td>\n",
       "      <td>1</td>\n",
       "      <td>0</td>\n",
       "      <td>0</td>\n",
       "    </tr>\n",
       "    <tr>\n",
       "      <th>5</th>\n",
       "      <td>5099</td>\n",
       "      <td>Large Cozy 1 BR Apartment In Midtown East</td>\n",
       "      <td>7322</td>\n",
       "      <td>Chris</td>\n",
       "      <td>Manhattan</td>\n",
       "      <td>Murray Hill</td>\n",
       "      <td>40.74767</td>\n",
       "      <td>-73.97500</td>\n",
       "      <td>Entire home/apt</td>\n",
       "      <td>200</td>\n",
       "      <td>...</td>\n",
       "      <td>1</td>\n",
       "      <td>129</td>\n",
       "      <td>0</td>\n",
       "      <td>1</td>\n",
       "      <td>0</td>\n",
       "      <td>0</td>\n",
       "      <td>0</td>\n",
       "      <td>1</td>\n",
       "      <td>0</td>\n",
       "      <td>0</td>\n",
       "    </tr>\n",
       "    <tr>\n",
       "      <th>7</th>\n",
       "      <td>5178</td>\n",
       "      <td>Large Furnished Room Near B'way</td>\n",
       "      <td>8967</td>\n",
       "      <td>Shunichi</td>\n",
       "      <td>Manhattan</td>\n",
       "      <td>Hell's Kitchen</td>\n",
       "      <td>40.76489</td>\n",
       "      <td>-73.98493</td>\n",
       "      <td>Private room</td>\n",
       "      <td>79</td>\n",
       "      <td>...</td>\n",
       "      <td>1</td>\n",
       "      <td>220</td>\n",
       "      <td>0</td>\n",
       "      <td>1</td>\n",
       "      <td>0</td>\n",
       "      <td>0</td>\n",
       "      <td>0</td>\n",
       "      <td>0</td>\n",
       "      <td>1</td>\n",
       "      <td>0</td>\n",
       "    </tr>\n",
       "  </tbody>\n",
       "</table>\n",
       "<p>5 rows × 24 columns</p>\n",
       "</div>"
      ],
      "text/plain": [
       "     id                                       name  host_id    host_name  \\\n",
       "0  2539         Clean & quiet apt home by the park     2787         John   \n",
       "1  2595                      Skylit Midtown Castle     2845     Jennifer   \n",
       "3  3831            Cozy Entire Floor of Brownstone     4869  LisaRoxanne   \n",
       "5  5099  Large Cozy 1 BR Apartment In Midtown East     7322        Chris   \n",
       "7  5178           Large Furnished Room Near B'way      8967     Shunichi   \n",
       "\n",
       "  neighbourhood_group   neighbourhood  latitude  longitude        room_type  \\\n",
       "0            Brooklyn      Kensington  40.64749  -73.97237     Private room   \n",
       "1           Manhattan         Midtown  40.75362  -73.98377  Entire home/apt   \n",
       "3            Brooklyn    Clinton Hill  40.68514  -73.95976  Entire home/apt   \n",
       "5           Manhattan     Murray Hill  40.74767  -73.97500  Entire home/apt   \n",
       "7           Manhattan  Hell's Kitchen  40.76489  -73.98493     Private room   \n",
       "\n",
       "   price  ...  calculated_host_listings_count  availability_365 Brooklyn_bin  \\\n",
       "0    149  ...                               6               365            1   \n",
       "1    225  ...                               2               355            0   \n",
       "3     89  ...                               1               194            1   \n",
       "5    200  ...                               1               129            0   \n",
       "7     79  ...                               1               220            0   \n",
       "\n",
       "   Manhattan_bin  Queens_bin  Bronx_bin  Staten_Island _bin  \\\n",
       "0              0           0          0                   0   \n",
       "1              1           0          0                   0   \n",
       "3              0           0          0                   0   \n",
       "5              1           0          0                   0   \n",
       "7              1           0          0                   0   \n",
       "\n",
       "   Entire_home/apt_bin  Private_room_bin  Shared_room_bin  \n",
       "0                    0                 1                0  \n",
       "1                    1                 0                0  \n",
       "3                    1                 0                0  \n",
       "5                    1                 0                0  \n",
       "7                    0                 1                0  \n",
       "\n",
       "[5 rows x 24 columns]"
      ]
     },
     "execution_count": 50,
     "metadata": {},
     "output_type": "execute_result"
    }
   ],
   "source": [
    "#Recode the object variables in the 'neighbourhood_group' and 'room_type' colunms.\n",
    "bnbs_price_less_300['Brooklyn_bin'] = np.where(bnbs_price_less_300['neighbourhood_group'] == \"Brooklyn\", 1, 0)\n",
    "bnbs_price_less_300['Manhattan_bin'] = np.where(bnbs_price_less_300['neighbourhood_group'] == \"Manhattan\", 1, 0)\n",
    "bnbs_price_less_300['Queens_bin'] = np.where(bnbs_price_less_300['neighbourhood_group'] == \"Queens\", 1, 0)\n",
    "bnbs_price_less_300['Bronx_bin'] = np.where(bnbs_price_less_300['neighbourhood_group'] == \"Bronx\", 1, 0)\n",
    "bnbs_price_less_300['Staten_Island _bin'] = np.where(bnbs_price_less_300['neighbourhood_group'] == \"Staten Island\", 1, 0)\n",
    "bnbs_price_less_300['Entire_home/apt_bin'] = np.where(bnbs_price_less_300['room_type'] == \"Entire home/apt\", 1, 0)\n",
    "bnbs_price_less_300['Private_room_bin'] = np.where(bnbs_price_less_300['room_type'] == \"Private room\", 1, 0)\n",
    "bnbs_price_less_300['Shared_room_bin'] = np.where(bnbs_price_less_300['room_type'] == \"Shared room\", 1, 0)\n",
    "bnbs_price_less_300.head()"
   ]
  },
  {
   "cell_type": "markdown",
   "metadata": {},
   "source": [
    "Similarly, to facilitate the creation of the model, we simplified the different price ranges into 7 different classes with split points set every 50."
   ]
  },
  {
   "cell_type": "code",
   "execution_count": 51,
   "metadata": {},
   "outputs": [
    {
     "data": {
      "text/html": [
       "<div>\n",
       "<style scoped>\n",
       "    .dataframe tbody tr th:only-of-type {\n",
       "        vertical-align: middle;\n",
       "    }\n",
       "\n",
       "    .dataframe tbody tr th {\n",
       "        vertical-align: top;\n",
       "    }\n",
       "\n",
       "    .dataframe thead th {\n",
       "        text-align: right;\n",
       "    }\n",
       "</style>\n",
       "<table border=\"1\" class=\"dataframe\">\n",
       "  <thead>\n",
       "    <tr style=\"text-align: right;\">\n",
       "      <th></th>\n",
       "      <th>id</th>\n",
       "      <th>name</th>\n",
       "      <th>host_id</th>\n",
       "      <th>host_name</th>\n",
       "      <th>neighbourhood_group</th>\n",
       "      <th>neighbourhood</th>\n",
       "      <th>latitude</th>\n",
       "      <th>longitude</th>\n",
       "      <th>room_type</th>\n",
       "      <th>price</th>\n",
       "      <th>...</th>\n",
       "      <th>availability_365</th>\n",
       "      <th>Brooklyn_bin</th>\n",
       "      <th>Manhattan_bin</th>\n",
       "      <th>Queens_bin</th>\n",
       "      <th>Bronx_bin</th>\n",
       "      <th>Staten_Island _bin</th>\n",
       "      <th>Entire_home/apt_bin</th>\n",
       "      <th>Private_room_bin</th>\n",
       "      <th>Shared_room_bin</th>\n",
       "      <th>price_level</th>\n",
       "    </tr>\n",
       "  </thead>\n",
       "  <tbody>\n",
       "    <tr>\n",
       "      <th>0</th>\n",
       "      <td>2539</td>\n",
       "      <td>Clean &amp; quiet apt home by the park</td>\n",
       "      <td>2787</td>\n",
       "      <td>John</td>\n",
       "      <td>Brooklyn</td>\n",
       "      <td>Kensington</td>\n",
       "      <td>40.64749</td>\n",
       "      <td>-73.97237</td>\n",
       "      <td>Private room</td>\n",
       "      <td>149</td>\n",
       "      <td>...</td>\n",
       "      <td>365</td>\n",
       "      <td>1</td>\n",
       "      <td>0</td>\n",
       "      <td>0</td>\n",
       "      <td>0</td>\n",
       "      <td>0</td>\n",
       "      <td>0</td>\n",
       "      <td>1</td>\n",
       "      <td>0</td>\n",
       "      <td>3</td>\n",
       "    </tr>\n",
       "    <tr>\n",
       "      <th>1</th>\n",
       "      <td>2595</td>\n",
       "      <td>Skylit Midtown Castle</td>\n",
       "      <td>2845</td>\n",
       "      <td>Jennifer</td>\n",
       "      <td>Manhattan</td>\n",
       "      <td>Midtown</td>\n",
       "      <td>40.75362</td>\n",
       "      <td>-73.98377</td>\n",
       "      <td>Entire home/apt</td>\n",
       "      <td>225</td>\n",
       "      <td>...</td>\n",
       "      <td>355</td>\n",
       "      <td>0</td>\n",
       "      <td>1</td>\n",
       "      <td>0</td>\n",
       "      <td>0</td>\n",
       "      <td>0</td>\n",
       "      <td>1</td>\n",
       "      <td>0</td>\n",
       "      <td>0</td>\n",
       "      <td>5</td>\n",
       "    </tr>\n",
       "    <tr>\n",
       "      <th>3</th>\n",
       "      <td>3831</td>\n",
       "      <td>Cozy Entire Floor of Brownstone</td>\n",
       "      <td>4869</td>\n",
       "      <td>LisaRoxanne</td>\n",
       "      <td>Brooklyn</td>\n",
       "      <td>Clinton Hill</td>\n",
       "      <td>40.68514</td>\n",
       "      <td>-73.95976</td>\n",
       "      <td>Entire home/apt</td>\n",
       "      <td>89</td>\n",
       "      <td>...</td>\n",
       "      <td>194</td>\n",
       "      <td>1</td>\n",
       "      <td>0</td>\n",
       "      <td>0</td>\n",
       "      <td>0</td>\n",
       "      <td>0</td>\n",
       "      <td>1</td>\n",
       "      <td>0</td>\n",
       "      <td>0</td>\n",
       "      <td>2</td>\n",
       "    </tr>\n",
       "    <tr>\n",
       "      <th>5</th>\n",
       "      <td>5099</td>\n",
       "      <td>Large Cozy 1 BR Apartment In Midtown East</td>\n",
       "      <td>7322</td>\n",
       "      <td>Chris</td>\n",
       "      <td>Manhattan</td>\n",
       "      <td>Murray Hill</td>\n",
       "      <td>40.74767</td>\n",
       "      <td>-73.97500</td>\n",
       "      <td>Entire home/apt</td>\n",
       "      <td>200</td>\n",
       "      <td>...</td>\n",
       "      <td>129</td>\n",
       "      <td>0</td>\n",
       "      <td>1</td>\n",
       "      <td>0</td>\n",
       "      <td>0</td>\n",
       "      <td>0</td>\n",
       "      <td>1</td>\n",
       "      <td>0</td>\n",
       "      <td>0</td>\n",
       "      <td>4</td>\n",
       "    </tr>\n",
       "    <tr>\n",
       "      <th>7</th>\n",
       "      <td>5178</td>\n",
       "      <td>Large Furnished Room Near B'way</td>\n",
       "      <td>8967</td>\n",
       "      <td>Shunichi</td>\n",
       "      <td>Manhattan</td>\n",
       "      <td>Hell's Kitchen</td>\n",
       "      <td>40.76489</td>\n",
       "      <td>-73.98493</td>\n",
       "      <td>Private room</td>\n",
       "      <td>79</td>\n",
       "      <td>...</td>\n",
       "      <td>220</td>\n",
       "      <td>0</td>\n",
       "      <td>1</td>\n",
       "      <td>0</td>\n",
       "      <td>0</td>\n",
       "      <td>0</td>\n",
       "      <td>0</td>\n",
       "      <td>1</td>\n",
       "      <td>0</td>\n",
       "      <td>2</td>\n",
       "    </tr>\n",
       "  </tbody>\n",
       "</table>\n",
       "<p>5 rows × 25 columns</p>\n",
       "</div>"
      ],
      "text/plain": [
       "     id                                       name  host_id    host_name  \\\n",
       "0  2539         Clean & quiet apt home by the park     2787         John   \n",
       "1  2595                      Skylit Midtown Castle     2845     Jennifer   \n",
       "3  3831            Cozy Entire Floor of Brownstone     4869  LisaRoxanne   \n",
       "5  5099  Large Cozy 1 BR Apartment In Midtown East     7322        Chris   \n",
       "7  5178           Large Furnished Room Near B'way      8967     Shunichi   \n",
       "\n",
       "  neighbourhood_group   neighbourhood  latitude  longitude        room_type  \\\n",
       "0            Brooklyn      Kensington  40.64749  -73.97237     Private room   \n",
       "1           Manhattan         Midtown  40.75362  -73.98377  Entire home/apt   \n",
       "3            Brooklyn    Clinton Hill  40.68514  -73.95976  Entire home/apt   \n",
       "5           Manhattan     Murray Hill  40.74767  -73.97500  Entire home/apt   \n",
       "7           Manhattan  Hell's Kitchen  40.76489  -73.98493     Private room   \n",
       "\n",
       "   price  ...  availability_365  Brooklyn_bin Manhattan_bin  Queens_bin  \\\n",
       "0    149  ...               365             1             0           0   \n",
       "1    225  ...               355             0             1           0   \n",
       "3     89  ...               194             1             0           0   \n",
       "5    200  ...               129             0             1           0   \n",
       "7     79  ...               220             0             1           0   \n",
       "\n",
       "   Bronx_bin  Staten_Island _bin  Entire_home/apt_bin  Private_room_bin  \\\n",
       "0          0                   0                    0                 1   \n",
       "1          0                   0                    1                 0   \n",
       "3          0                   0                    1                 0   \n",
       "5          0                   0                    1                 0   \n",
       "7          0                   0                    0                 1   \n",
       "\n",
       "   Shared_room_bin  price_level  \n",
       "0                0            3  \n",
       "1                0            5  \n",
       "3                0            2  \n",
       "5                0            4  \n",
       "7                0            2  \n",
       "\n",
       "[5 rows x 25 columns]"
      ]
     },
     "execution_count": 51,
     "metadata": {},
     "output_type": "execute_result"
    }
   ],
   "source": [
    "#Create a new \"price_level\" column representing the price range.\n",
    "bnbs_price_less_300['price_level'] = pd.cut(bnbs_price_less_300['price'], bins=range(0, 351, 50), labels=range(1, 8))\n",
    "bnbs_price_less_300.head()"
   ]
  },
  {
   "cell_type": "code",
   "execution_count": 52,
   "metadata": {},
   "outputs": [],
   "source": [
    "bnbs_wrangling = bnbs_price_less_300[['minimum_nights','reviews_per_month','calculated_host_listings_count','availability_365',\n",
    "                  'Brooklyn_bin','Manhattan_bin','Queens_bin','Bronx_bin','Staten_Island _bin',\n",
    "                  'Entire_home/apt_bin','Private_room_bin','Shared_room_bin','price']]"
   ]
  },
  {
   "cell_type": "code",
   "execution_count": 53,
   "metadata": {},
   "outputs": [
    {
     "data": {
      "text/html": [
       "<div>\n",
       "<style scoped>\n",
       "    .dataframe tbody tr th:only-of-type {\n",
       "        vertical-align: middle;\n",
       "    }\n",
       "\n",
       "    .dataframe tbody tr th {\n",
       "        vertical-align: top;\n",
       "    }\n",
       "\n",
       "    .dataframe thead th {\n",
       "        text-align: right;\n",
       "    }\n",
       "</style>\n",
       "<table border=\"1\" class=\"dataframe\">\n",
       "  <thead>\n",
       "    <tr style=\"text-align: right;\">\n",
       "      <th></th>\n",
       "      <th>minimum_nights</th>\n",
       "      <th>reviews_per_month</th>\n",
       "      <th>calculated_host_listings_count</th>\n",
       "      <th>availability_365</th>\n",
       "      <th>Brooklyn_bin</th>\n",
       "      <th>Manhattan_bin</th>\n",
       "      <th>Queens_bin</th>\n",
       "      <th>Bronx_bin</th>\n",
       "      <th>Staten_Island _bin</th>\n",
       "      <th>Entire_home/apt_bin</th>\n",
       "      <th>Private_room_bin</th>\n",
       "      <th>Shared_room_bin</th>\n",
       "      <th>price</th>\n",
       "    </tr>\n",
       "  </thead>\n",
       "  <tbody>\n",
       "    <tr>\n",
       "      <th>minimum_nights</th>\n",
       "      <td>1.000000</td>\n",
       "      <td>-0.173289</td>\n",
       "      <td>0.077868</td>\n",
       "      <td>0.091401</td>\n",
       "      <td>-0.034115</td>\n",
       "      <td>0.083949</td>\n",
       "      <td>-0.051966</td>\n",
       "      <td>-0.021711</td>\n",
       "      <td>-0.018198</td>\n",
       "      <td>0.092019</td>\n",
       "      <td>-0.086223</td>\n",
       "      <td>-0.018047</td>\n",
       "      <td>0.018959</td>\n",
       "    </tr>\n",
       "    <tr>\n",
       "      <th>reviews_per_month</th>\n",
       "      <td>-0.173289</td>\n",
       "      <td>1.000000</td>\n",
       "      <td>-0.062975</td>\n",
       "      <td>-0.070255</td>\n",
       "      <td>-0.034681</td>\n",
       "      <td>-0.048302</td>\n",
       "      <td>0.103688</td>\n",
       "      <td>0.018686</td>\n",
       "      <td>0.006564</td>\n",
       "      <td>-0.037547</td>\n",
       "      <td>0.040913</td>\n",
       "      <td>-0.010256</td>\n",
       "      <td>-0.069512</td>\n",
       "    </tr>\n",
       "    <tr>\n",
       "      <th>calculated_host_listings_count</th>\n",
       "      <td>0.077868</td>\n",
       "      <td>-0.062975</td>\n",
       "      <td>1.000000</td>\n",
       "      <td>0.158237</td>\n",
       "      <td>-0.108998</td>\n",
       "      <td>0.152030</td>\n",
       "      <td>-0.040523</td>\n",
       "      <td>-0.025529</td>\n",
       "      <td>-0.015228</td>\n",
       "      <td>0.095060</td>\n",
       "      <td>-0.093263</td>\n",
       "      <td>-0.005759</td>\n",
       "      <td>0.144921</td>\n",
       "    </tr>\n",
       "    <tr>\n",
       "      <th>availability_365</th>\n",
       "      <td>0.091401</td>\n",
       "      <td>-0.070255</td>\n",
       "      <td>0.158237</td>\n",
       "      <td>1.000000</td>\n",
       "      <td>-0.041524</td>\n",
       "      <td>-0.032267</td>\n",
       "      <td>0.067622</td>\n",
       "      <td>0.040874</td>\n",
       "      <td>0.048026</td>\n",
       "      <td>-0.058265</td>\n",
       "      <td>0.039600</td>\n",
       "      <td>0.057530</td>\n",
       "      <td>0.012711</td>\n",
       "    </tr>\n",
       "    <tr>\n",
       "      <th>Brooklyn_bin</th>\n",
       "      <td>-0.034115</td>\n",
       "      <td>-0.034681</td>\n",
       "      <td>-0.108998</td>\n",
       "      <td>-0.041524</td>\n",
       "      <td>1.000000</td>\n",
       "      <td>-0.680527</td>\n",
       "      <td>-0.352739</td>\n",
       "      <td>-0.151217</td>\n",
       "      <td>-0.093234</td>\n",
       "      <td>-0.010411</td>\n",
       "      <td>0.019317</td>\n",
       "      <td>-0.027358</td>\n",
       "      <td>-0.123540</td>\n",
       "    </tr>\n",
       "    <tr>\n",
       "      <th>Manhattan_bin</th>\n",
       "      <td>0.083949</td>\n",
       "      <td>-0.048302</td>\n",
       "      <td>0.152030</td>\n",
       "      <td>-0.032267</td>\n",
       "      <td>-0.680527</td>\n",
       "      <td>1.000000</td>\n",
       "      <td>-0.333191</td>\n",
       "      <td>-0.142837</td>\n",
       "      <td>-0.088067</td>\n",
       "      <td>0.108618</td>\n",
       "      <td>-0.110119</td>\n",
       "      <td>0.004348</td>\n",
       "      <td>0.317613</td>\n",
       "    </tr>\n",
       "    <tr>\n",
       "      <th>Queens_bin</th>\n",
       "      <td>-0.051966</td>\n",
       "      <td>0.103688</td>\n",
       "      <td>-0.040523</td>\n",
       "      <td>0.067622</td>\n",
       "      <td>-0.352739</td>\n",
       "      <td>-0.333191</td>\n",
       "      <td>1.000000</td>\n",
       "      <td>-0.074037</td>\n",
       "      <td>-0.045648</td>\n",
       "      <td>-0.108827</td>\n",
       "      <td>0.101349</td>\n",
       "      <td>0.023259</td>\n",
       "      <td>-0.190912</td>\n",
       "    </tr>\n",
       "    <tr>\n",
       "      <th>Bronx_bin</th>\n",
       "      <td>-0.021711</td>\n",
       "      <td>0.018686</td>\n",
       "      <td>-0.025529</td>\n",
       "      <td>0.040874</td>\n",
       "      <td>-0.151217</td>\n",
       "      <td>-0.142837</td>\n",
       "      <td>-0.074037</td>\n",
       "      <td>1.000000</td>\n",
       "      <td>-0.019569</td>\n",
       "      <td>-0.050417</td>\n",
       "      <td>0.042738</td>\n",
       "      <td>0.023732</td>\n",
       "      <td>-0.119644</td>\n",
       "    </tr>\n",
       "    <tr>\n",
       "      <th>Staten_Island _bin</th>\n",
       "      <td>-0.018198</td>\n",
       "      <td>0.006564</td>\n",
       "      <td>-0.015228</td>\n",
       "      <td>0.048026</td>\n",
       "      <td>-0.093234</td>\n",
       "      <td>-0.088067</td>\n",
       "      <td>-0.045648</td>\n",
       "      <td>-0.019569</td>\n",
       "      <td>1.000000</td>\n",
       "      <td>-0.005549</td>\n",
       "      <td>0.008445</td>\n",
       "      <td>-0.008890</td>\n",
       "      <td>-0.052927</td>\n",
       "    </tr>\n",
       "    <tr>\n",
       "      <th>Entire_home/apt_bin</th>\n",
       "      <td>0.092019</td>\n",
       "      <td>-0.037547</td>\n",
       "      <td>0.095060</td>\n",
       "      <td>-0.058265</td>\n",
       "      <td>-0.010411</td>\n",
       "      <td>0.108618</td>\n",
       "      <td>-0.108827</td>\n",
       "      <td>-0.050417</td>\n",
       "      <td>-0.005549</td>\n",
       "      <td>1.000000</td>\n",
       "      <td>-0.947150</td>\n",
       "      <td>-0.164951</td>\n",
       "      <td>0.630551</td>\n",
       "    </tr>\n",
       "    <tr>\n",
       "      <th>Private_room_bin</th>\n",
       "      <td>-0.086223</td>\n",
       "      <td>0.040913</td>\n",
       "      <td>-0.093263</td>\n",
       "      <td>0.039600</td>\n",
       "      <td>0.019317</td>\n",
       "      <td>-0.110119</td>\n",
       "      <td>0.101349</td>\n",
       "      <td>0.042738</td>\n",
       "      <td>0.008445</td>\n",
       "      <td>-0.947150</td>\n",
       "      <td>1.000000</td>\n",
       "      <td>-0.160163</td>\n",
       "      <td>-0.577541</td>\n",
       "    </tr>\n",
       "    <tr>\n",
       "      <th>Shared_room_bin</th>\n",
       "      <td>-0.018047</td>\n",
       "      <td>-0.010256</td>\n",
       "      <td>-0.005759</td>\n",
       "      <td>0.057530</td>\n",
       "      <td>-0.027358</td>\n",
       "      <td>0.004348</td>\n",
       "      <td>0.023259</td>\n",
       "      <td>0.023732</td>\n",
       "      <td>-0.008890</td>\n",
       "      <td>-0.164951</td>\n",
       "      <td>-0.160163</td>\n",
       "      <td>1.000000</td>\n",
       "      <td>-0.164536</td>\n",
       "    </tr>\n",
       "    <tr>\n",
       "      <th>price</th>\n",
       "      <td>0.018959</td>\n",
       "      <td>-0.069512</td>\n",
       "      <td>0.144921</td>\n",
       "      <td>0.012711</td>\n",
       "      <td>-0.123540</td>\n",
       "      <td>0.317613</td>\n",
       "      <td>-0.190912</td>\n",
       "      <td>-0.119644</td>\n",
       "      <td>-0.052927</td>\n",
       "      <td>0.630551</td>\n",
       "      <td>-0.577541</td>\n",
       "      <td>-0.164536</td>\n",
       "      <td>1.000000</td>\n",
       "    </tr>\n",
       "  </tbody>\n",
       "</table>\n",
       "</div>"
      ],
      "text/plain": [
       "                                minimum_nights  reviews_per_month  \\\n",
       "minimum_nights                        1.000000          -0.173289   \n",
       "reviews_per_month                    -0.173289           1.000000   \n",
       "calculated_host_listings_count        0.077868          -0.062975   \n",
       "availability_365                      0.091401          -0.070255   \n",
       "Brooklyn_bin                         -0.034115          -0.034681   \n",
       "Manhattan_bin                         0.083949          -0.048302   \n",
       "Queens_bin                           -0.051966           0.103688   \n",
       "Bronx_bin                            -0.021711           0.018686   \n",
       "Staten_Island _bin                   -0.018198           0.006564   \n",
       "Entire_home/apt_bin                   0.092019          -0.037547   \n",
       "Private_room_bin                     -0.086223           0.040913   \n",
       "Shared_room_bin                      -0.018047          -0.010256   \n",
       "price                                 0.018959          -0.069512   \n",
       "\n",
       "                                calculated_host_listings_count  \\\n",
       "minimum_nights                                        0.077868   \n",
       "reviews_per_month                                    -0.062975   \n",
       "calculated_host_listings_count                        1.000000   \n",
       "availability_365                                      0.158237   \n",
       "Brooklyn_bin                                         -0.108998   \n",
       "Manhattan_bin                                         0.152030   \n",
       "Queens_bin                                           -0.040523   \n",
       "Bronx_bin                                            -0.025529   \n",
       "Staten_Island _bin                                   -0.015228   \n",
       "Entire_home/apt_bin                                   0.095060   \n",
       "Private_room_bin                                     -0.093263   \n",
       "Shared_room_bin                                      -0.005759   \n",
       "price                                                 0.144921   \n",
       "\n",
       "                                availability_365  Brooklyn_bin  Manhattan_bin  \\\n",
       "minimum_nights                          0.091401     -0.034115       0.083949   \n",
       "reviews_per_month                      -0.070255     -0.034681      -0.048302   \n",
       "calculated_host_listings_count          0.158237     -0.108998       0.152030   \n",
       "availability_365                        1.000000     -0.041524      -0.032267   \n",
       "Brooklyn_bin                           -0.041524      1.000000      -0.680527   \n",
       "Manhattan_bin                          -0.032267     -0.680527       1.000000   \n",
       "Queens_bin                              0.067622     -0.352739      -0.333191   \n",
       "Bronx_bin                               0.040874     -0.151217      -0.142837   \n",
       "Staten_Island _bin                      0.048026     -0.093234      -0.088067   \n",
       "Entire_home/apt_bin                    -0.058265     -0.010411       0.108618   \n",
       "Private_room_bin                        0.039600      0.019317      -0.110119   \n",
       "Shared_room_bin                         0.057530     -0.027358       0.004348   \n",
       "price                                   0.012711     -0.123540       0.317613   \n",
       "\n",
       "                                Queens_bin  Bronx_bin  Staten_Island _bin  \\\n",
       "minimum_nights                   -0.051966  -0.021711           -0.018198   \n",
       "reviews_per_month                 0.103688   0.018686            0.006564   \n",
       "calculated_host_listings_count   -0.040523  -0.025529           -0.015228   \n",
       "availability_365                  0.067622   0.040874            0.048026   \n",
       "Brooklyn_bin                     -0.352739  -0.151217           -0.093234   \n",
       "Manhattan_bin                    -0.333191  -0.142837           -0.088067   \n",
       "Queens_bin                        1.000000  -0.074037           -0.045648   \n",
       "Bronx_bin                        -0.074037   1.000000           -0.019569   \n",
       "Staten_Island _bin               -0.045648  -0.019569            1.000000   \n",
       "Entire_home/apt_bin              -0.108827  -0.050417           -0.005549   \n",
       "Private_room_bin                  0.101349   0.042738            0.008445   \n",
       "Shared_room_bin                   0.023259   0.023732           -0.008890   \n",
       "price                            -0.190912  -0.119644           -0.052927   \n",
       "\n",
       "                                Entire_home/apt_bin  Private_room_bin  \\\n",
       "minimum_nights                             0.092019         -0.086223   \n",
       "reviews_per_month                         -0.037547          0.040913   \n",
       "calculated_host_listings_count             0.095060         -0.093263   \n",
       "availability_365                          -0.058265          0.039600   \n",
       "Brooklyn_bin                              -0.010411          0.019317   \n",
       "Manhattan_bin                              0.108618         -0.110119   \n",
       "Queens_bin                                -0.108827          0.101349   \n",
       "Bronx_bin                                 -0.050417          0.042738   \n",
       "Staten_Island _bin                        -0.005549          0.008445   \n",
       "Entire_home/apt_bin                        1.000000         -0.947150   \n",
       "Private_room_bin                          -0.947150          1.000000   \n",
       "Shared_room_bin                           -0.164951         -0.160163   \n",
       "price                                      0.630551         -0.577541   \n",
       "\n",
       "                                Shared_room_bin     price  \n",
       "minimum_nights                        -0.018047  0.018959  \n",
       "reviews_per_month                     -0.010256 -0.069512  \n",
       "calculated_host_listings_count        -0.005759  0.144921  \n",
       "availability_365                       0.057530  0.012711  \n",
       "Brooklyn_bin                          -0.027358 -0.123540  \n",
       "Manhattan_bin                          0.004348  0.317613  \n",
       "Queens_bin                             0.023259 -0.190912  \n",
       "Bronx_bin                              0.023732 -0.119644  \n",
       "Staten_Island _bin                    -0.008890 -0.052927  \n",
       "Entire_home/apt_bin                   -0.164951  0.630551  \n",
       "Private_room_bin                      -0.160163 -0.577541  \n",
       "Shared_room_bin                        1.000000 -0.164536  \n",
       "price                                 -0.164536  1.000000  "
      ]
     },
     "execution_count": 53,
     "metadata": {},
     "output_type": "execute_result"
    }
   ],
   "source": [
    "bnbs_wrangling.corr()"
   ]
  },
  {
   "cell_type": "markdown",
   "metadata": {},
   "source": [
    "# Data Analysis"
   ]
  },
  {
   "cell_type": "markdown",
   "metadata": {},
   "source": [
    "## Creating Training and Teat Dataset"
   ]
  },
  {
   "cell_type": "markdown",
   "metadata": {},
   "source": [
    "Creat the lable dataset."
   ]
  },
  {
   "cell_type": "code",
   "execution_count": 54,
   "metadata": {},
   "outputs": [
    {
     "data": {
      "text/plain": [
       "array([2, 4, 1, ..., 0, 4, 1], dtype=int64)"
      ]
     },
     "execution_count": 54,
     "metadata": {},
     "output_type": "execute_result"
    }
   ],
   "source": [
    "le = LabelEncoder() # Create the LabelEncoder object.\n",
    "labels_fea = le.fit_transform(bnbs_price_less_300['price_level']) \n",
    "labels_fea"
   ]
  },
  {
   "cell_type": "markdown",
   "metadata": {},
   "source": [
    "We now create a subset of the data which includes the predictors that have relations with the prive level."
   ]
  },
  {
   "cell_type": "code",
   "execution_count": 55,
   "metadata": {},
   "outputs": [
    {
     "data": {
      "text/html": [
       "<div>\n",
       "<style scoped>\n",
       "    .dataframe tbody tr th:only-of-type {\n",
       "        vertical-align: middle;\n",
       "    }\n",
       "\n",
       "    .dataframe tbody tr th {\n",
       "        vertical-align: top;\n",
       "    }\n",
       "\n",
       "    .dataframe thead th {\n",
       "        text-align: right;\n",
       "    }\n",
       "</style>\n",
       "<table border=\"1\" class=\"dataframe\">\n",
       "  <thead>\n",
       "    <tr style=\"text-align: right;\">\n",
       "      <th></th>\n",
       "      <th>minimum_nights</th>\n",
       "      <th>reviews_per_month</th>\n",
       "      <th>calculated_host_listings_count</th>\n",
       "      <th>availability_365</th>\n",
       "      <th>Brooklyn_bin</th>\n",
       "      <th>Manhattan_bin</th>\n",
       "      <th>Queens_bin</th>\n",
       "      <th>Bronx_bin</th>\n",
       "      <th>Staten_Island _bin</th>\n",
       "      <th>Entire_home/apt_bin</th>\n",
       "      <th>Private_room_bin</th>\n",
       "      <th>Shared_room_bin</th>\n",
       "    </tr>\n",
       "  </thead>\n",
       "  <tbody>\n",
       "    <tr>\n",
       "      <th>0</th>\n",
       "      <td>1</td>\n",
       "      <td>0.21</td>\n",
       "      <td>6</td>\n",
       "      <td>365</td>\n",
       "      <td>1</td>\n",
       "      <td>0</td>\n",
       "      <td>0</td>\n",
       "      <td>0</td>\n",
       "      <td>0</td>\n",
       "      <td>0</td>\n",
       "      <td>1</td>\n",
       "      <td>0</td>\n",
       "    </tr>\n",
       "    <tr>\n",
       "      <th>1</th>\n",
       "      <td>1</td>\n",
       "      <td>0.38</td>\n",
       "      <td>2</td>\n",
       "      <td>355</td>\n",
       "      <td>0</td>\n",
       "      <td>1</td>\n",
       "      <td>0</td>\n",
       "      <td>0</td>\n",
       "      <td>0</td>\n",
       "      <td>1</td>\n",
       "      <td>0</td>\n",
       "      <td>0</td>\n",
       "    </tr>\n",
       "    <tr>\n",
       "      <th>3</th>\n",
       "      <td>1</td>\n",
       "      <td>4.64</td>\n",
       "      <td>1</td>\n",
       "      <td>194</td>\n",
       "      <td>1</td>\n",
       "      <td>0</td>\n",
       "      <td>0</td>\n",
       "      <td>0</td>\n",
       "      <td>0</td>\n",
       "      <td>1</td>\n",
       "      <td>0</td>\n",
       "      <td>0</td>\n",
       "    </tr>\n",
       "    <tr>\n",
       "      <th>5</th>\n",
       "      <td>3</td>\n",
       "      <td>0.59</td>\n",
       "      <td>1</td>\n",
       "      <td>129</td>\n",
       "      <td>0</td>\n",
       "      <td>1</td>\n",
       "      <td>0</td>\n",
       "      <td>0</td>\n",
       "      <td>0</td>\n",
       "      <td>1</td>\n",
       "      <td>0</td>\n",
       "      <td>0</td>\n",
       "    </tr>\n",
       "    <tr>\n",
       "      <th>7</th>\n",
       "      <td>2</td>\n",
       "      <td>3.47</td>\n",
       "      <td>1</td>\n",
       "      <td>220</td>\n",
       "      <td>0</td>\n",
       "      <td>1</td>\n",
       "      <td>0</td>\n",
       "      <td>0</td>\n",
       "      <td>0</td>\n",
       "      <td>0</td>\n",
       "      <td>1</td>\n",
       "      <td>0</td>\n",
       "    </tr>\n",
       "  </tbody>\n",
       "</table>\n",
       "</div>"
      ],
      "text/plain": [
       "   minimum_nights  reviews_per_month  calculated_host_listings_count  \\\n",
       "0               1               0.21                               6   \n",
       "1               1               0.38                               2   \n",
       "3               1               4.64                               1   \n",
       "5               3               0.59                               1   \n",
       "7               2               3.47                               1   \n",
       "\n",
       "   availability_365  Brooklyn_bin  Manhattan_bin  Queens_bin  Bronx_bin  \\\n",
       "0               365             1              0           0          0   \n",
       "1               355             0              1           0          0   \n",
       "3               194             1              0           0          0   \n",
       "5               129             0              1           0          0   \n",
       "7               220             0              1           0          0   \n",
       "\n",
       "   Staten_Island _bin  Entire_home/apt_bin  Private_room_bin  Shared_room_bin  \n",
       "0                   0                    0                 1                0  \n",
       "1                   0                    1                 0                0  \n",
       "3                   0                    1                 0                0  \n",
       "5                   0                    1                 0                0  \n",
       "7                   0                    0                 1                0  "
      ]
     },
     "execution_count": 55,
     "metadata": {},
     "output_type": "execute_result"
    }
   ],
   "source": [
    "bnbs_sub = bnbs_price_less_300[['minimum_nights','reviews_per_month','calculated_host_listings_count','availability_365',\n",
    "                  'Brooklyn_bin','Manhattan_bin','Queens_bin','Bronx_bin','Staten_Island _bin',\n",
    "                  'Entire_home/apt_bin','Private_room_bin','Shared_room_bin']]\n",
    "bnbs_sub.head()"
   ]
  },
  {
   "cell_type": "markdown",
   "metadata": {},
   "source": [
    "In order to split it, we also need our dataset to be in an array"
   ]
  },
  {
   "cell_type": "code",
   "execution_count": 56,
   "metadata": {},
   "outputs": [
    {
     "data": {
      "text/plain": [
       "array([[1.  , 0.21, 6.  , ..., 0.  , 1.  , 0.  ],\n",
       "       [1.  , 0.38, 2.  , ..., 1.  , 0.  , 0.  ],\n",
       "       [1.  , 4.64, 1.  , ..., 1.  , 0.  , 0.  ],\n",
       "       ...,\n",
       "       [1.  , 1.  , 6.  , ..., 0.  , 1.  , 0.  ],\n",
       "       [1.  , 1.  , 1.  , ..., 0.  , 1.  , 0.  ],\n",
       "       [1.  , 2.  , 1.  , ..., 1.  , 0.  , 0.  ]])"
      ]
     },
     "execution_count": 56,
     "metadata": {},
     "output_type": "execute_result"
    }
   ],
   "source": [
    "bnbs_array = bnbs_sub.to_numpy()\n",
    "bnbs_array"
   ]
  },
  {
   "cell_type": "markdown",
   "metadata": {},
   "source": [
    "Divide them into training and test data and labels:"
   ]
  },
  {
   "cell_type": "code",
   "execution_count": 57,
   "metadata": {},
   "outputs": [],
   "source": [
    "train_data, test_data, train_lab, test_lab = train_test_split(bnbs_array, labels_fea)"
   ]
  },
  {
   "cell_type": "markdown",
   "metadata": {},
   "source": [
    "Check the length of all arrays, train_test_split will split the data according to a 75:25 split."
   ]
  },
  {
   "cell_type": "code",
   "execution_count": 58,
   "metadata": {},
   "outputs": [
    {
     "data": {
      "text/plain": [
       "17992"
      ]
     },
     "execution_count": 58,
     "metadata": {},
     "output_type": "execute_result"
    }
   ],
   "source": [
    "len(train_data)"
   ]
  },
  {
   "cell_type": "code",
   "execution_count": 59,
   "metadata": {},
   "outputs": [
    {
     "data": {
      "text/plain": [
       "5998"
      ]
     },
     "execution_count": 59,
     "metadata": {},
     "output_type": "execute_result"
    }
   ],
   "source": [
    "len(test_data)"
   ]
  },
  {
   "cell_type": "code",
   "execution_count": 60,
   "metadata": {},
   "outputs": [
    {
     "data": {
      "text/plain": [
       "17992"
      ]
     },
     "execution_count": 60,
     "metadata": {},
     "output_type": "execute_result"
    }
   ],
   "source": [
    "len(train_lab)"
   ]
  },
  {
   "cell_type": "code",
   "execution_count": 61,
   "metadata": {},
   "outputs": [
    {
     "data": {
      "text/plain": [
       "5998"
      ]
     },
     "execution_count": 61,
     "metadata": {},
     "output_type": "execute_result"
    }
   ],
   "source": [
    "len(test_lab)"
   ]
  },
  {
   "cell_type": "markdown",
   "metadata": {},
   "source": [
    "## K-nearest Neighbors"
   ]
  },
  {
   "cell_type": "markdown",
   "metadata": {},
   "source": [
    "We first train and test the price intervals using the *k*-Nearest Neighbour (*k*NN) classifier."
   ]
  },
  {
   "cell_type": "code",
   "execution_count": 62,
   "metadata": {},
   "outputs": [],
   "source": [
    "from sklearn.neighbors import KNeighborsClassifier"
   ]
  },
  {
   "cell_type": "code",
   "execution_count": 63,
   "metadata": {},
   "outputs": [],
   "source": [
    "#creat the classifer with 10 neighbors\n",
    "knn = KNeighborsClassifier(n_neighbors = 10) "
   ]
  },
  {
   "cell_type": "code",
   "execution_count": 64,
   "metadata": {},
   "outputs": [
    {
     "data": {
      "text/plain": [
       "KNeighborsClassifier(n_neighbors=10)"
      ]
     },
     "execution_count": 64,
     "metadata": {},
     "output_type": "execute_result"
    }
   ],
   "source": [
    "#fit the classifier\n",
    "knn.fit(train_data, train_lab)"
   ]
  },
  {
   "cell_type": "code",
   "execution_count": 65,
   "metadata": {},
   "outputs": [
    {
     "data": {
      "text/plain": [
       "0.41430476825608537"
      ]
     },
     "execution_count": 65,
     "metadata": {},
     "output_type": "execute_result"
    }
   ],
   "source": [
    "#print the score\n",
    "knn.score(test_data, test_lab)"
   ]
  },
  {
   "cell_type": "code",
   "execution_count": 66,
   "metadata": {},
   "outputs": [],
   "source": [
    "predictions = knn.predict(test_data)\n",
    "from sklearn import metrics\n",
    "#add the test labels and the predictions to create the confusion matrix\n",
    "confusion_matrix = metrics.confusion_matrix(test_lab, predictions)"
   ]
  },
  {
   "cell_type": "code",
   "execution_count": 67,
   "metadata": {},
   "outputs": [
    {
     "data": {
      "image/png": "[encoded data removed]",
      "text/plain": [
       "<Figure size 288x288 with 2 Axes>"
      ]
     },
     "metadata": {
      "needs_background": "light"
     },
     "output_type": "display_data"
    }
   ],
   "source": [
    "#plots the confusion matrix\n",
    "plt.matshow(confusion_matrix) \n",
    "plt.colorbar() \n",
    "plt.title('Confusion matrix')\n",
    "plt.ylabel('True class')\n",
    "plt.xlabel('Predicted class')\n",
    "plt.show()"
   ]
  },
  {
   "cell_type": "code",
   "execution_count": 68,
   "metadata": {},
   "outputs": [
    {
     "name": "stdout",
     "output_type": "stream",
     "text": [
      "              precision    recall  f1-score   support\n",
      "\n",
      "           0       0.32      0.19      0.24       780\n",
      "           1       0.50      0.72      0.59      2355\n",
      "           2       0.32      0.30      0.31      1348\n",
      "           3       0.26      0.20      0.23       847\n",
      "           4       0.36      0.11      0.17       397\n",
      "           5       0.29      0.03      0.06       270\n",
      "           6       0.00      0.00      0.00         1\n",
      "\n",
      "    accuracy                           0.41      5998\n",
      "   macro avg       0.29      0.22      0.23      5998\n",
      "weighted avg       0.38      0.41      0.38      5998\n",
      "\n"
     ]
    }
   ],
   "source": [
    "print(metrics.classification_report(test_lab, predictions, zero_division = 0))"
   ]
  },
  {
   "cell_type": "markdown",
   "metadata": {},
   "source": [
    "## Decision Trees"
   ]
  },
  {
   "cell_type": "markdown",
   "metadata": {},
   "source": [
    "We now try the Decision Tree method."
   ]
  },
  {
   "cell_type": "code",
   "execution_count": 69,
   "metadata": {},
   "outputs": [],
   "source": [
    "#import the package\n",
    "from sklearn.tree import DecisionTreeClassifier"
   ]
  },
  {
   "cell_type": "code",
   "execution_count": 70,
   "metadata": {},
   "outputs": [
    {
     "data": {
      "text/plain": [
       "0.3924641547182394"
      ]
     },
     "execution_count": 70,
     "metadata": {},
     "output_type": "execute_result"
    }
   ],
   "source": [
    "#create a DecisionTreeClassifer and give it a name.\n",
    "dt = DecisionTreeClassifier()\n",
    "#fit the model\n",
    "dt.fit(train_data, train_lab)\n",
    "#check the score\n",
    "dt.score(test_data, test_lab)"
   ]
  },
  {
   "cell_type": "code",
   "execution_count": 71,
   "metadata": {},
   "outputs": [
    {
     "data": {
      "image/png": "[encoded data removed]",
      "text/plain": [
       "<Figure size 288x288 with 2 Axes>"
      ]
     },
     "metadata": {
      "needs_background": "light"
     },
     "output_type": "display_data"
    }
   ],
   "source": [
    "#predict and create the confusion matrix\n",
    "predictions = dt.predict(test_data)\n",
    "reviews_pred = pd.DataFrame(list(predictions))\n",
    "confusion_matrix = metrics.confusion_matrix(test_lab, reviews_pred)\n",
    "#plot the confusion matrix\n",
    "plt.matshow(confusion_matrix)\n",
    "plt.title('Confusion matrix')\n",
    "plt.colorbar()\n",
    "plt.ylabel('True class')\n",
    "plt.xlabel('Predicted class')\n",
    "plt.show()"
   ]
  },
  {
   "cell_type": "code",
   "execution_count": 72,
   "metadata": {},
   "outputs": [
    {
     "name": "stdout",
     "output_type": "stream",
     "text": [
      "              precision    recall  f1-score   support\n",
      "\n",
      "           0       0.40      0.43      0.41       780\n",
      "           1       0.54      0.51      0.53      2355\n",
      "           2       0.32      0.32      0.32      1348\n",
      "           3       0.29      0.31      0.30       847\n",
      "           4       0.20      0.23      0.21       397\n",
      "           5       0.15      0.15      0.15       270\n",
      "           6       0.00      0.00      0.00         1\n",
      "\n",
      "    accuracy                           0.39      5998\n",
      "   macro avg       0.27      0.28      0.27      5998\n",
      "weighted avg       0.40      0.39      0.39      5998\n",
      "\n"
     ]
    }
   ],
   "source": [
    "#print the results\n",
    "print(metrics.classification_report(test_lab, predictions, zero_division = 0))"
   ]
  },
  {
   "cell_type": "markdown",
   "metadata": {},
   "source": [
    "## Random Forests"
   ]
  },
  {
   "cell_type": "markdown",
   "metadata": {},
   "source": [
    "For Random Forest classifier, we need to specify the `n_estimators`. The larger this value is, the greater the processing time and accuracy will be."
   ]
  },
  {
   "cell_type": "code",
   "execution_count": 73,
   "metadata": {},
   "outputs": [],
   "source": [
    "from sklearn.ensemble import RandomForestClassifier"
   ]
  },
  {
   "cell_type": "code",
   "execution_count": 74,
   "metadata": {},
   "outputs": [
    {
     "data": {
      "text/plain": [
       "0.4558186062020674"
      ]
     },
     "execution_count": 74,
     "metadata": {},
     "output_type": "execute_result"
    }
   ],
   "source": [
    "forest=RandomForestClassifier(n_estimators=10)\n",
    "forest.fit(train_data,train_lab)\n",
    "forest.score(test_data, test_lab)"
   ]
  },
  {
   "cell_type": "code",
   "execution_count": 75,
   "metadata": {},
   "outputs": [
    {
     "data": {
      "image/png": "[encoded data removed]",
      "text/plain": [
       "<Figure size 288x288 with 2 Axes>"
      ]
     },
     "metadata": {
      "needs_background": "light"
     },
     "output_type": "display_data"
    }
   ],
   "source": [
    "#predict and creat the matrix\n",
    "predictions = forest.predict(test_data)\n",
    "reviews_pred = pd.DataFrame(list(predictions))\n",
    "confusion_matrix = metrics.confusion_matrix(test_lab, reviews_pred)\n",
    "plt.matshow(confusion_matrix)\n",
    "plt.title('Confusion matrix')\n",
    "plt.colorbar()\n",
    "plt.ylabel('True class')\n",
    "plt.xlabel('Predicted class')\n",
    "plt.show()"
   ]
  },
  {
   "cell_type": "code",
   "execution_count": 76,
   "metadata": {},
   "outputs": [
    {
     "name": "stdout",
     "output_type": "stream",
     "text": [
      "              precision    recall  f1-score   support\n",
      "\n",
      "           0       0.46      0.44      0.45       780\n",
      "           1       0.58      0.65      0.61      2355\n",
      "           2       0.37      0.38      0.37      1348\n",
      "           3       0.32      0.30      0.31       847\n",
      "           4       0.24      0.17      0.20       397\n",
      "           5       0.19      0.10      0.13       270\n",
      "           6       0.00      0.00      0.00         1\n",
      "\n",
      "    accuracy                           0.46      5998\n",
      "   macro avg       0.31      0.29      0.30      5998\n",
      "weighted avg       0.44      0.46      0.45      5998\n",
      "\n"
     ]
    }
   ],
   "source": [
    "#print the results\n",
    "print(metrics.classification_report(test_lab, predictions, zero_division =0))"
   ]
  },
  {
   "cell_type": "markdown",
   "metadata": {},
   "source": [
    "## Naive Bayes"
   ]
  },
  {
   "cell_type": "markdown",
   "metadata": {},
   "source": [
    "Next, we will try the Naive Bayes."
   ]
  },
  {
   "cell_type": "code",
   "execution_count": 77,
   "metadata": {},
   "outputs": [],
   "source": [
    "#import the package\n",
    "from sklearn.naive_bayes import GaussianNB"
   ]
  },
  {
   "cell_type": "code",
   "execution_count": 78,
   "metadata": {},
   "outputs": [
    {
     "data": {
      "text/plain": [
       "0.25258419473157717"
      ]
     },
     "execution_count": 78,
     "metadata": {},
     "output_type": "execute_result"
    }
   ],
   "source": [
    "NB = GaussianNB()\n",
    "#fit the classifer\n",
    "NB.fit(train_data,train_lab)\n",
    "#check the score\n",
    "NB.score(test_data, test_lab)"
   ]
  },
  {
   "cell_type": "code",
   "execution_count": 79,
   "metadata": {},
   "outputs": [
    {
     "data": {
      "image/png": "[encoded data removed]",
      "text/plain": [
       "<Figure size 288x288 with 2 Axes>"
      ]
     },
     "metadata": {
      "needs_background": "light"
     },
     "output_type": "display_data"
    }
   ],
   "source": [
    "#predict\n",
    "predictions = NB.predict(test_data)\n",
    "#add the predictions to a new dataframe\n",
    "reviews_pred = pd.DataFrame(list(predictions))\n",
    "#create the confusion matrix\n",
    "confusion_matrix = metrics.confusion_matrix(test_lab, reviews_pred)\n",
    "#plot the confusion matrix\n",
    "plt.matshow(confusion_matrix)\n",
    "plt.title('Confusion matrix')\n",
    "plt.colorbar()\n",
    "plt.ylabel('True class')\n",
    "plt.xlabel('Predicted class')\n",
    "plt.show()"
   ]
  },
  {
   "cell_type": "code",
   "execution_count": 80,
   "metadata": {},
   "outputs": [
    {
     "name": "stdout",
     "output_type": "stream",
     "text": [
      "              precision    recall  f1-score   support\n",
      "\n",
      "           0       0.46      0.13      0.20       780\n",
      "           1       0.59      0.38      0.46      2355\n",
      "           2       0.37      0.08      0.14      1348\n",
      "           3       0.27      0.33      0.30       847\n",
      "           4       0.36      0.09      0.14       397\n",
      "           5       0.15      0.35      0.21       270\n",
      "           6       0.00      1.00      0.00         1\n",
      "\n",
      "    accuracy                           0.25      5998\n",
      "   macro avg       0.31      0.34      0.21      5998\n",
      "weighted avg       0.44      0.25      0.30      5998\n",
      "\n"
     ]
    }
   ],
   "source": [
    "#print the results\n",
    "print(metrics.classification_report(test_lab, predictions, zero_division = 0))"
   ]
  },
  {
   "cell_type": "markdown",
   "metadata": {},
   "source": [
    "## The Perceptron"
   ]
  },
  {
   "cell_type": "markdown",
   "metadata": {},
   "source": [
    "Finally, we use the Perceptron to fit the model."
   ]
  },
  {
   "cell_type": "code",
   "execution_count": 81,
   "metadata": {},
   "outputs": [
    {
     "data": {
      "text/plain": [
       "0.4808269423141047"
      ]
     },
     "execution_count": 81,
     "metadata": {},
     "output_type": "execute_result"
    }
   ],
   "source": [
    "from sklearn.neural_network import MLPClassifier\n",
    "#we will use the standard parameters\n",
    "Perceptron = MLPClassifier()\n",
    "Perceptron.fit(train_data,train_lab)\n",
    "Perceptron.score(test_data, test_lab)"
   ]
  },
  {
   "cell_type": "code",
   "execution_count": 82,
   "metadata": {},
   "outputs": [
    {
     "data": {
      "image/png": "[encoded data removed]",
      "text/plain": [
       "<Figure size 288x288 with 2 Axes>"
      ]
     },
     "metadata": {
      "needs_background": "light"
     },
     "output_type": "display_data"
    }
   ],
   "source": [
    "predictions = Perceptron.predict(test_data)\n",
    "reviews_pred = pd.DataFrame(list(predictions))\n",
    "confusion_matrix = metrics.confusion_matrix(test_lab, reviews_pred)\n",
    "plt.matshow(confusion_matrix)\n",
    "plt.title('Confusion matrix')\n",
    "plt.colorbar()\n",
    "plt.ylabel('True class')\n",
    "plt.xlabel('Predicted class')\n",
    "plt.show()"
   ]
  },
  {
   "cell_type": "code",
   "execution_count": 83,
   "metadata": {},
   "outputs": [
    {
     "name": "stdout",
     "output_type": "stream",
     "text": [
      "              precision    recall  f1-score   support\n",
      "\n",
      "           0       0.55      0.28      0.37       780\n",
      "           1       0.58      0.79      0.67      2355\n",
      "           2       0.39      0.39      0.39      1348\n",
      "           3       0.36      0.13      0.20       847\n",
      "           4       0.22      0.39      0.28       397\n",
      "           5       0.40      0.01      0.01       270\n",
      "           6       0.00      0.00      0.00         1\n",
      "\n",
      "    accuracy                           0.48      5998\n",
      "   macro avg       0.36      0.28      0.27      5998\n",
      "weighted avg       0.47      0.48      0.45      5998\n",
      "\n"
     ]
    }
   ],
   "source": [
    "print(metrics.classification_report(test_lab, predictions, zero_division = 0))"
   ]
  },
  {
   "cell_type": "markdown",
   "metadata": {},
   "source": [
    "# Results"
   ]
  },
  {
   "cell_type": "markdown",
   "metadata": {},
   "source": [
    "The models were trained differently using the five different methods, and different scores were given out, as shown in the table below:"
   ]
  },
  {
   "cell_type": "markdown",
   "metadata": {},
   "source": [
    "| K-nearest Neighbors | Decision Trees | Random Forest | Naive Bayes | The Perceptron |\n",
    "| ----------- | ----------- | ----------- | ----------- | ----------- |\n",
    "| 0.41 | 0.39 | 0.46 | 0.25 | 0.49 |"
   ]
  },
  {
   "cell_type": "markdown",
   "metadata": {},
   "source": [
    "Overall, the Perceptron method has the highest score meaning that 49% of the data in the test set were predicted accurately in the actual price level.\n",
    "\n",
    "It can also be concluded from the matrix and report that the KKN method has the highest accuracy in predicting bnbs with a price level of 2, i.e., daily rentals in the range of 50-100. The overall score of the Decision Tree is not as good as the knn method, but it is more accurate in predicting the first price level at 0.40. While the Random Forest has a more accurate score and precision based on the matrix and the report.\n",
    "\n",
    "Navie Baye is the least accurate, as can be seen from the matrix, signidicant level 2 values are predicted as level 7. As for the Perceptron method with standard parameters, it has the highest accuracy in predicting the price levels, and has the highest precision on the first price level, which is 0.55."
   ]
  },
  {
   "cell_type": "markdown",
   "metadata": {},
   "source": [
    "# Discussion"
   ]
  },
  {
   "cell_type": "markdown",
   "metadata": {},
   "source": [
    "By converting the geometries of the dataset into the maps and adding price attribute into the points, the maps in the visualisation section allow us to visualise the relationship between the density, the rent and the location of B&B distribution.\n",
    "\n",
    "According to the boxplot and corelation tables in the statistics and visualisation part, there is a correlation between the nightly rent in airbnb and the location, type of housing and other factors. These factors are also taken into account in the actual pricing of the rent. According to Data Analysis, the model built by the Perceptron method is more accurate in predicting the price level of B&Bs because of the large sample size, with an accuracy of 47%. That is, according to 'minimum_nights', 'reviews_per_month', 'calculated_host_listings_count', 'availability_365', the regional location of airbnb and the type of housing, the rent price can be predicted more accurately through the model training The model can be trained to predict the rent price more accurately.\n",
    "\n",
    "Thus, the model can help landlords determine the rent range of the B&B. Theoretically, as long as you determine the type of housing, location and other major attributes, the rent price range of housing could be predicted. This model can become an important reference for landlords to set reasonable rent.\n",
    "\n",
    "However, the model also has some defects, for example, the rent is generally not constant in a year, and the model data for a fixed rent price, which may cause some errors. Generally speaking, the model data can be more in line with the actual situation by training and predicting the peak season and off-season separately."
   ]
  },
  {
   "cell_type": "markdown",
   "metadata": {},
   "source": [
    "# Conclusion"
   ]
  },
  {
   "cell_type": "markdown",
   "metadata": {},
   "source": [
    "Using the map in the visualisation section, we can visualise that Manhattan has a higher density of B&Bs and rents relative to the other four boroughs.\n",
    "\n",
    "Also, This report predicted the price range of the bnbs by training and testing in 5 different methods, and finally came up with the the Perceptron method model accuracy rate is higher, reaching 49%. It can help landlords to develop scientific and effective pricing strategies, thus helping the short-term rental market to develop in a more orderly and reasonable way."
   ]
  },
  {
   "cell_type": "markdown",
   "metadata": {},
   "source": [
    "# Reference"
   ]
  },
  {
   "cell_type": "markdown",
   "metadata": {},
   "source": [
    "Kaggle. 2019. New York City Airbnb Open Data. [Online]. [Accessed 3 January 2024]. Available from: https://www.kaggle.com/datasets/dgomonov/new-york-city-airbnb-open-data/data\n",
    "\n",
    "Mach, Ł. 2020. Prices of Accommodation Rental as Functioning on the Basis of A Sharing Economy in The Capitals of Cee States. *Argumenta Oeconomica* **2**(45), pp.141-162.\n",
    "\n",
    "Ndaguba, E., Brown, K., Marinova, D. and Jogulu1, U. 2023. Exploring the Social Impact of the Short‑Stay Market (SSM) in Regional Areas: An Empirical Study. *Fudan Journal of the Humanities and Social Sciences.*\n",
    "\n",
    "Yu, C., Liu, C. and Chang, M. 2020. Research on the Key Factors of the Success of the Theme B&B Business Strategy. *Advances in Management & Applied Economics.* **10**(2), pp.129-138."
   ]
  }
 ],
 "metadata": {
  "kernelspec": {
   "display_name": "base",
   "language": "python",
   "name": "python3"
  },
  "language_info": {
   "codemirror_mode": {
    "name": "ipython",
    "version": 3
   },
   "file_extension": ".py",
   "mimetype": "text/x-python",
   "name": "python",
   "nbconvert_exporter": "python",
   "pygments_lexer": "ipython3",
   "version": "3.11.7"
  }
 },
 "nbformat": 4,
 "nbformat_minor": 2
}
